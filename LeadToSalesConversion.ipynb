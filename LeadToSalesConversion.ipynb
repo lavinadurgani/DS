{
 "cells": [
  {
   "cell_type": "code",
   "execution_count": 1,
   "id": "168ed986",
   "metadata": {},
   "outputs": [],
   "source": [
    "import pandas as pd\n",
    "import numpy as np"
   ]
  },
  {
   "cell_type": "code",
   "execution_count": 2,
   "id": "cfb2798e",
   "metadata": {},
   "outputs": [],
   "source": [
    "Data = pd.read_csv(r'C:\\Users\\lavin\\Documents\\DataSciencePractiseProblems\\Indeed Assignment\\PS_Homework_data_set.csv')"
   ]
  },
  {
   "cell_type": "code",
   "execution_count": 3,
   "id": "47c9517d",
   "metadata": {},
   "outputs": [],
   "source": [
    "# general stats in data"
   ]
  },
  {
   "cell_type": "code",
   "execution_count": 4,
   "id": "98b87ec1",
   "metadata": {},
   "outputs": [
    {
     "data": {
      "text/html": [
       "<div>\n",
       "<style scoped>\n",
       "    .dataframe tbody tr th:only-of-type {\n",
       "        vertical-align: middle;\n",
       "    }\n",
       "\n",
       "    .dataframe tbody tr th {\n",
       "        vertical-align: top;\n",
       "    }\n",
       "\n",
       "    .dataframe thead th {\n",
       "        text-align: right;\n",
       "    }\n",
       "</style>\n",
       "<table border=\"1\" class=\"dataframe\">\n",
       "  <thead>\n",
       "    <tr style=\"text-align: right;\">\n",
       "      <th></th>\n",
       "      <th>Unnamed: 0</th>\n",
       "      <th>advertiser_id</th>\n",
       "      <th>assigned</th>\n",
       "      <th>age</th>\n",
       "      <th>assign_days</th>\n",
       "      <th>revenue</th>\n",
       "    </tr>\n",
       "  </thead>\n",
       "  <tbody>\n",
       "    <tr>\n",
       "      <th>count</th>\n",
       "      <td>77891.000000</td>\n",
       "      <td>7.789100e+04</td>\n",
       "      <td>77891.000000</td>\n",
       "      <td>77891.000000</td>\n",
       "      <td>77891.000000</td>\n",
       "      <td>3.340000e+03</td>\n",
       "    </tr>\n",
       "    <tr>\n",
       "      <th>mean</th>\n",
       "      <td>38945.000000</td>\n",
       "      <td>7.924271e+06</td>\n",
       "      <td>0.476037</td>\n",
       "      <td>309.958532</td>\n",
       "      <td>120.482546</td>\n",
       "      <td>4.865177e+07</td>\n",
       "    </tr>\n",
       "    <tr>\n",
       "      <th>std</th>\n",
       "      <td>22485.339246</td>\n",
       "      <td>3.918985e+06</td>\n",
       "      <td>0.499429</td>\n",
       "      <td>488.801166</td>\n",
       "      <td>39.527908</td>\n",
       "      <td>1.736891e+08</td>\n",
       "    </tr>\n",
       "    <tr>\n",
       "      <th>min</th>\n",
       "      <td>0.000000</td>\n",
       "      <td>4.850000e+02</td>\n",
       "      <td>0.000000</td>\n",
       "      <td>-27.000000</td>\n",
       "      <td>-2.000000</td>\n",
       "      <td>1.200000e+04</td>\n",
       "    </tr>\n",
       "    <tr>\n",
       "      <th>25%</th>\n",
       "      <td>19472.500000</td>\n",
       "      <td>4.317428e+06</td>\n",
       "      <td>0.000000</td>\n",
       "      <td>0.000000</td>\n",
       "      <td>136.000000</td>\n",
       "      <td>6.398444e+06</td>\n",
       "    </tr>\n",
       "    <tr>\n",
       "      <th>50%</th>\n",
       "      <td>38945.000000</td>\n",
       "      <td>1.078788e+07</td>\n",
       "      <td>0.000000</td>\n",
       "      <td>0.000000</td>\n",
       "      <td>137.000000</td>\n",
       "      <td>1.514775e+07</td>\n",
       "    </tr>\n",
       "    <tr>\n",
       "      <th>75%</th>\n",
       "      <td>58417.500000</td>\n",
       "      <td>1.080747e+07</td>\n",
       "      <td>1.000000</td>\n",
       "      <td>523.000000</td>\n",
       "      <td>138.000000</td>\n",
       "      <td>3.704959e+07</td>\n",
       "    </tr>\n",
       "    <tr>\n",
       "      <th>max</th>\n",
       "      <td>77890.000000</td>\n",
       "      <td>1.119963e+07</td>\n",
       "      <td>1.000000</td>\n",
       "      <td>3855.000000</td>\n",
       "      <td>138.000000</td>\n",
       "      <td>6.533791e+09</td>\n",
       "    </tr>\n",
       "  </tbody>\n",
       "</table>\n",
       "</div>"
      ],
      "text/plain": [
       "         Unnamed: 0  advertiser_id      assigned           age   assign_days  \\\n",
       "count  77891.000000   7.789100e+04  77891.000000  77891.000000  77891.000000   \n",
       "mean   38945.000000   7.924271e+06      0.476037    309.958532    120.482546   \n",
       "std    22485.339246   3.918985e+06      0.499429    488.801166     39.527908   \n",
       "min        0.000000   4.850000e+02      0.000000    -27.000000     -2.000000   \n",
       "25%    19472.500000   4.317428e+06      0.000000      0.000000    136.000000   \n",
       "50%    38945.000000   1.078788e+07      0.000000      0.000000    137.000000   \n",
       "75%    58417.500000   1.080747e+07      1.000000    523.000000    138.000000   \n",
       "max    77890.000000   1.119963e+07      1.000000   3855.000000    138.000000   \n",
       "\n",
       "            revenue  \n",
       "count  3.340000e+03  \n",
       "mean   4.865177e+07  \n",
       "std    1.736891e+08  \n",
       "min    1.200000e+04  \n",
       "25%    6.398444e+06  \n",
       "50%    1.514775e+07  \n",
       "75%    3.704959e+07  \n",
       "max    6.533791e+09  "
      ]
     },
     "execution_count": 4,
     "metadata": {},
     "output_type": "execute_result"
    }
   ],
   "source": [
    "Data.describe() \n",
    "# Age and Assign_Days have negative values -  wrong data"
   ]
  },
  {
   "cell_type": "code",
   "execution_count": 5,
   "id": "9bedae39",
   "metadata": {},
   "outputs": [],
   "source": [
    "# check if the data that has negative age has revenue, if yes, we cannot delete it, as it will affect the revenue impact calculations"
   ]
  },
  {
   "cell_type": "code",
   "execution_count": 6,
   "id": "87459bb6",
   "metadata": {},
   "outputs": [
    {
     "data": {
      "text/plain": [
       "41730232.294117644"
      ]
     },
     "execution_count": 6,
     "metadata": {},
     "output_type": "execute_result"
    }
   ],
   "source": [
    "np.mean(Data[Data['age'] <0]['revenue'])\n",
    "# Data is important, no deletion"
   ]
  },
  {
   "cell_type": "code",
   "execution_count": 7,
   "id": "de07cd0d",
   "metadata": {},
   "outputs": [],
   "source": [
    "# check if the data that has negative assign_days has revenue, if yes, we cannot delete it, as it will affect the revenue impact calculations"
   ]
  },
  {
   "cell_type": "code",
   "execution_count": 8,
   "id": "7635316a",
   "metadata": {},
   "outputs": [
    {
     "data": {
      "text/plain": [
       "nan"
      ]
     },
     "execution_count": 8,
     "metadata": {},
     "output_type": "execute_result"
    }
   ],
   "source": [
    "np.mean(Data[Data['assign_days'] <0]['revenue'])\n",
    "# Data is not important, as all nulls, can be deleted / ignored, Lets ignore"
   ]
  },
  {
   "cell_type": "code",
   "execution_count": 9,
   "id": "f25068b5",
   "metadata": {},
   "outputs": [
    {
     "data": {
      "text/html": [
       "<div>\n",
       "<style scoped>\n",
       "    .dataframe tbody tr th:only-of-type {\n",
       "        vertical-align: middle;\n",
       "    }\n",
       "\n",
       "    .dataframe tbody tr th {\n",
       "        vertical-align: top;\n",
       "    }\n",
       "\n",
       "    .dataframe thead th {\n",
       "        text-align: right;\n",
       "    }\n",
       "</style>\n",
       "<table border=\"1\" class=\"dataframe\">\n",
       "  <thead>\n",
       "    <tr style=\"text-align: right;\">\n",
       "      <th></th>\n",
       "      <th>Unnamed: 0</th>\n",
       "      <th>advertiser_id</th>\n",
       "      <th>assigned</th>\n",
       "      <th>age</th>\n",
       "      <th>assign_days</th>\n",
       "      <th>revenue</th>\n",
       "    </tr>\n",
       "  </thead>\n",
       "  <tbody>\n",
       "    <tr>\n",
       "      <th>count</th>\n",
       "      <td>77891.000000</td>\n",
       "      <td>7.789100e+04</td>\n",
       "      <td>77891.000000</td>\n",
       "      <td>77891.000000</td>\n",
       "      <td>77891.000000</td>\n",
       "      <td>3.340000e+03</td>\n",
       "    </tr>\n",
       "    <tr>\n",
       "      <th>mean</th>\n",
       "      <td>38945.000000</td>\n",
       "      <td>7.924271e+06</td>\n",
       "      <td>0.476037</td>\n",
       "      <td>309.958532</td>\n",
       "      <td>120.482546</td>\n",
       "      <td>4.865177e+07</td>\n",
       "    </tr>\n",
       "    <tr>\n",
       "      <th>std</th>\n",
       "      <td>22485.339246</td>\n",
       "      <td>3.918985e+06</td>\n",
       "      <td>0.499429</td>\n",
       "      <td>488.801166</td>\n",
       "      <td>39.527908</td>\n",
       "      <td>1.736891e+08</td>\n",
       "    </tr>\n",
       "    <tr>\n",
       "      <th>min</th>\n",
       "      <td>0.000000</td>\n",
       "      <td>4.850000e+02</td>\n",
       "      <td>0.000000</td>\n",
       "      <td>-27.000000</td>\n",
       "      <td>-2.000000</td>\n",
       "      <td>1.200000e+04</td>\n",
       "    </tr>\n",
       "    <tr>\n",
       "      <th>25%</th>\n",
       "      <td>19472.500000</td>\n",
       "      <td>4.317428e+06</td>\n",
       "      <td>0.000000</td>\n",
       "      <td>0.000000</td>\n",
       "      <td>136.000000</td>\n",
       "      <td>6.398444e+06</td>\n",
       "    </tr>\n",
       "    <tr>\n",
       "      <th>50%</th>\n",
       "      <td>38945.000000</td>\n",
       "      <td>1.078788e+07</td>\n",
       "      <td>0.000000</td>\n",
       "      <td>0.000000</td>\n",
       "      <td>137.000000</td>\n",
       "      <td>1.514775e+07</td>\n",
       "    </tr>\n",
       "    <tr>\n",
       "      <th>75%</th>\n",
       "      <td>58417.500000</td>\n",
       "      <td>1.080747e+07</td>\n",
       "      <td>1.000000</td>\n",
       "      <td>523.000000</td>\n",
       "      <td>138.000000</td>\n",
       "      <td>3.704959e+07</td>\n",
       "    </tr>\n",
       "    <tr>\n",
       "      <th>max</th>\n",
       "      <td>77890.000000</td>\n",
       "      <td>1.119963e+07</td>\n",
       "      <td>1.000000</td>\n",
       "      <td>3855.000000</td>\n",
       "      <td>138.000000</td>\n",
       "      <td>6.533791e+09</td>\n",
       "    </tr>\n",
       "  </tbody>\n",
       "</table>\n",
       "</div>"
      ],
      "text/plain": [
       "         Unnamed: 0  advertiser_id      assigned           age   assign_days  \\\n",
       "count  77891.000000   7.789100e+04  77891.000000  77891.000000  77891.000000   \n",
       "mean   38945.000000   7.924271e+06      0.476037    309.958532    120.482546   \n",
       "std    22485.339246   3.918985e+06      0.499429    488.801166     39.527908   \n",
       "min        0.000000   4.850000e+02      0.000000    -27.000000     -2.000000   \n",
       "25%    19472.500000   4.317428e+06      0.000000      0.000000    136.000000   \n",
       "50%    38945.000000   1.078788e+07      0.000000      0.000000    137.000000   \n",
       "75%    58417.500000   1.080747e+07      1.000000    523.000000    138.000000   \n",
       "max    77890.000000   1.119963e+07      1.000000   3855.000000    138.000000   \n",
       "\n",
       "            revenue  \n",
       "count  3.340000e+03  \n",
       "mean   4.865177e+07  \n",
       "std    1.736891e+08  \n",
       "min    1.200000e+04  \n",
       "25%    6.398444e+06  \n",
       "50%    1.514775e+07  \n",
       "75%    3.704959e+07  \n",
       "max    6.533791e+09  "
      ]
     },
     "execution_count": 9,
     "metadata": {},
     "output_type": "execute_result"
    }
   ],
   "source": [
    "Data.describe()"
   ]
  },
  {
   "cell_type": "code",
   "execution_count": 10,
   "id": "6724108e",
   "metadata": {},
   "outputs": [
    {
     "name": "stdout",
     "output_type": "stream",
     "text": [
      "<class 'pandas.core.frame.DataFrame'>\n",
      "RangeIndex: 77891 entries, 0 to 77890\n",
      "Data columns (total 10 columns):\n",
      " #   Column                  Non-Null Count  Dtype  \n",
      "---  ------                  --------------  -----  \n",
      " 0   Unnamed: 0              77891 non-null  int64  \n",
      " 1   advertiser_id           77891 non-null  int64  \n",
      " 2   assigned                77891 non-null  int64  \n",
      " 3   date_assignment_starts  77891 non-null  object \n",
      " 4   date_assignment_ends    77891 non-null  object \n",
      " 5   first_revenue_date      8433 non-null   object \n",
      " 6   date_created            77891 non-null  object \n",
      " 7   age                     77891 non-null  int64  \n",
      " 8   assign_days             77891 non-null  int64  \n",
      " 9   revenue                 3340 non-null   float64\n",
      "dtypes: float64(1), int64(5), object(4)\n",
      "memory usage: 5.9+ MB\n"
     ]
    }
   ],
   "source": [
    "Data.info()\n",
    "# Inference : \n",
    "# All the date columns are 100% populated. \n",
    "# there are 8433 rows with first_revenue_date populated, but only 3340 rows with revenue in it.  \n",
    "# As it will be worthless to do mean imputation on target variable (revenue)'s column, so we will try using only the rows with nonzero revenue for our analysis"
   ]
  },
  {
   "cell_type": "code",
   "execution_count": 11,
   "id": "0a65cdb7",
   "metadata": {},
   "outputs": [
    {
     "data": {
      "text/html": [
       "<div>\n",
       "<style scoped>\n",
       "    .dataframe tbody tr th:only-of-type {\n",
       "        vertical-align: middle;\n",
       "    }\n",
       "\n",
       "    .dataframe tbody tr th {\n",
       "        vertical-align: top;\n",
       "    }\n",
       "\n",
       "    .dataframe thead th {\n",
       "        text-align: right;\n",
       "    }\n",
       "</style>\n",
       "<table border=\"1\" class=\"dataframe\">\n",
       "  <thead>\n",
       "    <tr style=\"text-align: right;\">\n",
       "      <th></th>\n",
       "      <th>Unnamed: 0</th>\n",
       "      <th>advertiser_id</th>\n",
       "      <th>assigned</th>\n",
       "      <th>date_assignment_starts</th>\n",
       "      <th>date_assignment_ends</th>\n",
       "      <th>first_revenue_date</th>\n",
       "      <th>date_created</th>\n",
       "      <th>age</th>\n",
       "      <th>assign_days</th>\n",
       "      <th>revenue</th>\n",
       "    </tr>\n",
       "  </thead>\n",
       "  <tbody>\n",
       "    <tr>\n",
       "      <th>0</th>\n",
       "      <td>0</td>\n",
       "      <td>485</td>\n",
       "      <td>1</td>\n",
       "      <td>2017-02-01 00:00:00.000000</td>\n",
       "      <td>2017-06-19 12:12:37.888680</td>\n",
       "      <td>NaN</td>\n",
       "      <td>2006-07-14</td>\n",
       "      <td>3855</td>\n",
       "      <td>138</td>\n",
       "      <td>NaN</td>\n",
       "    </tr>\n",
       "    <tr>\n",
       "      <th>1</th>\n",
       "      <td>1</td>\n",
       "      <td>598</td>\n",
       "      <td>1</td>\n",
       "      <td>2017-02-01 00:00:00.000000</td>\n",
       "      <td>2017-06-19 12:12:37.888680</td>\n",
       "      <td>NaN</td>\n",
       "      <td>2006-08-02</td>\n",
       "      <td>3836</td>\n",
       "      <td>138</td>\n",
       "      <td>NaN</td>\n",
       "    </tr>\n",
       "    <tr>\n",
       "      <th>2</th>\n",
       "      <td>2</td>\n",
       "      <td>673</td>\n",
       "      <td>1</td>\n",
       "      <td>2017-02-01 00:00:00.000000</td>\n",
       "      <td>2017-04-28 15:36:30.000000</td>\n",
       "      <td>NaN</td>\n",
       "      <td>2006-08-17</td>\n",
       "      <td>3821</td>\n",
       "      <td>86</td>\n",
       "      <td>NaN</td>\n",
       "    </tr>\n",
       "    <tr>\n",
       "      <th>3</th>\n",
       "      <td>3</td>\n",
       "      <td>813</td>\n",
       "      <td>1</td>\n",
       "      <td>2017-02-01 00:00:00.000000</td>\n",
       "      <td>2017-06-19 12:12:37.888680</td>\n",
       "      <td>NaN</td>\n",
       "      <td>2006-09-12</td>\n",
       "      <td>3795</td>\n",
       "      <td>138</td>\n",
       "      <td>NaN</td>\n",
       "    </tr>\n",
       "  </tbody>\n",
       "</table>\n",
       "</div>"
      ],
      "text/plain": [
       "   Unnamed: 0  advertiser_id  assigned      date_assignment_starts  \\\n",
       "0           0            485         1  2017-02-01 00:00:00.000000   \n",
       "1           1            598         1  2017-02-01 00:00:00.000000   \n",
       "2           2            673         1  2017-02-01 00:00:00.000000   \n",
       "3           3            813         1  2017-02-01 00:00:00.000000   \n",
       "\n",
       "         date_assignment_ends first_revenue_date date_created   age  \\\n",
       "0  2017-06-19 12:12:37.888680                NaN   2006-07-14  3855   \n",
       "1  2017-06-19 12:12:37.888680                NaN   2006-08-02  3836   \n",
       "2  2017-04-28 15:36:30.000000                NaN   2006-08-17  3821   \n",
       "3  2017-06-19 12:12:37.888680                NaN   2006-09-12  3795   \n",
       "\n",
       "   assign_days  revenue  \n",
       "0          138      NaN  \n",
       "1          138      NaN  \n",
       "2           86      NaN  \n",
       "3          138      NaN  "
      ]
     },
     "execution_count": 11,
     "metadata": {},
     "output_type": "execute_result"
    }
   ],
   "source": [
    "Data.head(4) # 77891 rows × 10 columns\n",
    "#"
   ]
  },
  {
   "cell_type": "markdown",
   "id": "52b92061",
   "metadata": {},
   "source": [
    "Columns explained :\n",
    "\n",
    "- advertiser_id column is of no use\n",
    "- Assigned column suggests that whether a sales rep was assigned or not assigned to the lead\n",
    "- for assigned = 1 , date_assignment_starts, date_assignment_ends are the dates of assignment of sales rep to the lead\n",
    "- for assigned = 0, it is unclear why there is still assignment start and assignment end date\n",
    "- first_revenue_date is the date on which lead was converted to customer. This has data even for some rows dont have revenue filled.\n",
    "- date_created is the date the lead was created in system\n",
    "- Age is total age of the lead till the time it got assigned to sales team\n",
    "- Assign_days is the number of days sales is assigned to the lead.\n",
    "- revenue is the total revenue by customer so far"
   ]
  },
  {
   "cell_type": "code",
   "execution_count": 12,
   "id": "3726dada",
   "metadata": {},
   "outputs": [
    {
     "data": {
      "text/plain": [
       "Unnamed: 0                    0\n",
       "advertiser_id                 0\n",
       "assigned                      0\n",
       "date_assignment_starts        0\n",
       "date_assignment_ends          0\n",
       "first_revenue_date        69458\n",
       "date_created                  0\n",
       "age                           0\n",
       "assign_days                   0\n",
       "revenue                   74551\n",
       "dtype: int64"
      ]
     },
     "execution_count": 12,
     "metadata": {},
     "output_type": "execute_result"
    }
   ],
   "source": [
    "# Missing values analysis\n",
    "Data.isna().sum()"
   ]
  },
  {
   "cell_type": "code",
   "execution_count": 13,
   "id": "92a4c532",
   "metadata": {},
   "outputs": [
    {
     "data": {
      "text/plain": [
       "3340"
      ]
     },
     "execution_count": 13,
     "metadata": {},
     "output_type": "execute_result"
    }
   ],
   "source": [
    "77891-74551\n",
    "# 3340 leads have revenue generated. "
   ]
  },
  {
   "cell_type": "code",
   "execution_count": 14,
   "id": "104c7b66",
   "metadata": {},
   "outputs": [
    {
     "data": {
      "text/plain": [
       "0.04288043548035075"
      ]
     },
     "execution_count": 14,
     "metadata": {},
     "output_type": "execute_result"
    }
   ],
   "source": [
    "3340/77891 # 4.2 % of the leads got converted to customers"
   ]
  },
  {
   "cell_type": "markdown",
   "id": "fcef8159",
   "metadata": {},
   "source": [
    "##### Question 1 : Assigned and Unassigned population description"
   ]
  },
  {
   "cell_type": "code",
   "execution_count": 15,
   "id": "943c981a",
   "metadata": {},
   "outputs": [
    {
     "data": {
      "text/html": [
       "<div>\n",
       "<style scoped>\n",
       "    .dataframe tbody tr th:only-of-type {\n",
       "        vertical-align: middle;\n",
       "    }\n",
       "\n",
       "    .dataframe tbody tr th {\n",
       "        vertical-align: top;\n",
       "    }\n",
       "\n",
       "    .dataframe thead th {\n",
       "        text-align: right;\n",
       "    }\n",
       "</style>\n",
       "<table border=\"1\" class=\"dataframe\">\n",
       "  <thead>\n",
       "    <tr style=\"text-align: right;\">\n",
       "      <th></th>\n",
       "      <th>Unnamed: 0</th>\n",
       "      <th>advertiser_id</th>\n",
       "      <th>date_assignment_starts</th>\n",
       "      <th>date_assignment_ends</th>\n",
       "      <th>first_revenue_date</th>\n",
       "      <th>date_created</th>\n",
       "      <th>age</th>\n",
       "      <th>assign_days</th>\n",
       "      <th>revenue</th>\n",
       "    </tr>\n",
       "    <tr>\n",
       "      <th>assigned</th>\n",
       "      <th></th>\n",
       "      <th></th>\n",
       "      <th></th>\n",
       "      <th></th>\n",
       "      <th></th>\n",
       "      <th></th>\n",
       "      <th></th>\n",
       "      <th></th>\n",
       "      <th></th>\n",
       "    </tr>\n",
       "  </thead>\n",
       "  <tbody>\n",
       "    <tr>\n",
       "      <th>0</th>\n",
       "      <td>40812</td>\n",
       "      <td>40812</td>\n",
       "      <td>40812</td>\n",
       "      <td>40812</td>\n",
       "      <td>2850</td>\n",
       "      <td>40812</td>\n",
       "      <td>40812</td>\n",
       "      <td>40812</td>\n",
       "      <td>1775</td>\n",
       "    </tr>\n",
       "    <tr>\n",
       "      <th>1</th>\n",
       "      <td>37079</td>\n",
       "      <td>37079</td>\n",
       "      <td>37079</td>\n",
       "      <td>37079</td>\n",
       "      <td>5583</td>\n",
       "      <td>37079</td>\n",
       "      <td>37079</td>\n",
       "      <td>37079</td>\n",
       "      <td>1565</td>\n",
       "    </tr>\n",
       "  </tbody>\n",
       "</table>\n",
       "</div>"
      ],
      "text/plain": [
       "          Unnamed: 0  advertiser_id  date_assignment_starts  \\\n",
       "assigned                                                      \n",
       "0              40812          40812                   40812   \n",
       "1              37079          37079                   37079   \n",
       "\n",
       "          date_assignment_ends  first_revenue_date  date_created    age  \\\n",
       "assigned                                                                  \n",
       "0                        40812                2850         40812  40812   \n",
       "1                        37079                5583         37079  37079   \n",
       "\n",
       "          assign_days  revenue  \n",
       "assigned                        \n",
       "0               40812     1775  \n",
       "1               37079     1565  "
      ]
     },
     "execution_count": 15,
     "metadata": {},
     "output_type": "execute_result"
    }
   ],
   "source": [
    "Data.groupby(['assigned']).count()"
   ]
  },
  {
   "cell_type": "code",
   "execution_count": 16,
   "id": "35225045",
   "metadata": {},
   "outputs": [],
   "source": [
    "# DF_Assigned and DF_Unassigned to be used for ML model only"
   ]
  },
  {
   "cell_type": "code",
   "execution_count": 17,
   "id": "71908299",
   "metadata": {},
   "outputs": [],
   "source": [
    "DF_Assigned = Data[Data['assigned'] == 1]\n",
    "DF_Unassigned = Data[Data['assigned'] == 0]"
   ]
  },
  {
   "cell_type": "code",
   "execution_count": 18,
   "id": "dfccea83",
   "metadata": {},
   "outputs": [
    {
     "data": {
      "text/html": [
       "<div>\n",
       "<style scoped>\n",
       "    .dataframe tbody tr th:only-of-type {\n",
       "        vertical-align: middle;\n",
       "    }\n",
       "\n",
       "    .dataframe tbody tr th {\n",
       "        vertical-align: top;\n",
       "    }\n",
       "\n",
       "    .dataframe thead th {\n",
       "        text-align: right;\n",
       "    }\n",
       "</style>\n",
       "<table border=\"1\" class=\"dataframe\">\n",
       "  <thead>\n",
       "    <tr style=\"text-align: right;\">\n",
       "      <th></th>\n",
       "      <th>Unnamed: 0</th>\n",
       "      <th>advertiser_id</th>\n",
       "      <th>assigned</th>\n",
       "      <th>date_assignment_starts</th>\n",
       "      <th>date_assignment_ends</th>\n",
       "      <th>first_revenue_date</th>\n",
       "      <th>date_created</th>\n",
       "      <th>age</th>\n",
       "      <th>assign_days</th>\n",
       "      <th>revenue</th>\n",
       "    </tr>\n",
       "  </thead>\n",
       "  <tbody>\n",
       "    <tr>\n",
       "      <th>0</th>\n",
       "      <td>0</td>\n",
       "      <td>485</td>\n",
       "      <td>1</td>\n",
       "      <td>2017-02-01 00:00:00.000000</td>\n",
       "      <td>2017-06-19 12:12:37.888680</td>\n",
       "      <td>NaN</td>\n",
       "      <td>2006-07-14</td>\n",
       "      <td>3855</td>\n",
       "      <td>138</td>\n",
       "      <td>NaN</td>\n",
       "    </tr>\n",
       "    <tr>\n",
       "      <th>1</th>\n",
       "      <td>1</td>\n",
       "      <td>598</td>\n",
       "      <td>1</td>\n",
       "      <td>2017-02-01 00:00:00.000000</td>\n",
       "      <td>2017-06-19 12:12:37.888680</td>\n",
       "      <td>NaN</td>\n",
       "      <td>2006-08-02</td>\n",
       "      <td>3836</td>\n",
       "      <td>138</td>\n",
       "      <td>NaN</td>\n",
       "    </tr>\n",
       "    <tr>\n",
       "      <th>2</th>\n",
       "      <td>2</td>\n",
       "      <td>673</td>\n",
       "      <td>1</td>\n",
       "      <td>2017-02-01 00:00:00.000000</td>\n",
       "      <td>2017-04-28 15:36:30.000000</td>\n",
       "      <td>NaN</td>\n",
       "      <td>2006-08-17</td>\n",
       "      <td>3821</td>\n",
       "      <td>86</td>\n",
       "      <td>NaN</td>\n",
       "    </tr>\n",
       "    <tr>\n",
       "      <th>3</th>\n",
       "      <td>3</td>\n",
       "      <td>813</td>\n",
       "      <td>1</td>\n",
       "      <td>2017-02-01 00:00:00.000000</td>\n",
       "      <td>2017-06-19 12:12:37.888680</td>\n",
       "      <td>NaN</td>\n",
       "      <td>2006-09-12</td>\n",
       "      <td>3795</td>\n",
       "      <td>138</td>\n",
       "      <td>NaN</td>\n",
       "    </tr>\n",
       "    <tr>\n",
       "      <th>4</th>\n",
       "      <td>4</td>\n",
       "      <td>1132</td>\n",
       "      <td>1</td>\n",
       "      <td>2017-02-01 00:00:00.000000</td>\n",
       "      <td>2017-06-19 12:12:37.888680</td>\n",
       "      <td>NaN</td>\n",
       "      <td>2006-11-02</td>\n",
       "      <td>3744</td>\n",
       "      <td>138</td>\n",
       "      <td>NaN</td>\n",
       "    </tr>\n",
       "  </tbody>\n",
       "</table>\n",
       "</div>"
      ],
      "text/plain": [
       "   Unnamed: 0  advertiser_id  assigned      date_assignment_starts  \\\n",
       "0           0            485         1  2017-02-01 00:00:00.000000   \n",
       "1           1            598         1  2017-02-01 00:00:00.000000   \n",
       "2           2            673         1  2017-02-01 00:00:00.000000   \n",
       "3           3            813         1  2017-02-01 00:00:00.000000   \n",
       "4           4           1132         1  2017-02-01 00:00:00.000000   \n",
       "\n",
       "         date_assignment_ends first_revenue_date date_created   age  \\\n",
       "0  2017-06-19 12:12:37.888680                NaN   2006-07-14  3855   \n",
       "1  2017-06-19 12:12:37.888680                NaN   2006-08-02  3836   \n",
       "2  2017-04-28 15:36:30.000000                NaN   2006-08-17  3821   \n",
       "3  2017-06-19 12:12:37.888680                NaN   2006-09-12  3795   \n",
       "4  2017-06-19 12:12:37.888680                NaN   2006-11-02  3744   \n",
       "\n",
       "   assign_days  revenue  \n",
       "0          138      NaN  \n",
       "1          138      NaN  \n",
       "2           86      NaN  \n",
       "3          138      NaN  \n",
       "4          138      NaN  "
      ]
     },
     "execution_count": 18,
     "metadata": {},
     "output_type": "execute_result"
    }
   ],
   "source": [
    "DF_Assigned.head()"
   ]
  },
  {
   "cell_type": "code",
   "execution_count": 19,
   "id": "f2ddf7ee",
   "metadata": {},
   "outputs": [
    {
     "data": {
      "text/html": [
       "<div>\n",
       "<style scoped>\n",
       "    .dataframe tbody tr th:only-of-type {\n",
       "        vertical-align: middle;\n",
       "    }\n",
       "\n",
       "    .dataframe tbody tr th {\n",
       "        vertical-align: top;\n",
       "    }\n",
       "\n",
       "    .dataframe thead th {\n",
       "        text-align: right;\n",
       "    }\n",
       "</style>\n",
       "<table border=\"1\" class=\"dataframe\">\n",
       "  <thead>\n",
       "    <tr style=\"text-align: right;\">\n",
       "      <th></th>\n",
       "      <th>Unnamed: 0</th>\n",
       "      <th>advertiser_id</th>\n",
       "      <th>assigned</th>\n",
       "      <th>age</th>\n",
       "      <th>assign_days</th>\n",
       "      <th>revenue</th>\n",
       "    </tr>\n",
       "  </thead>\n",
       "  <tbody>\n",
       "    <tr>\n",
       "      <th>count</th>\n",
       "      <td>37079.000000</td>\n",
       "      <td>3.707900e+04</td>\n",
       "      <td>37079.0</td>\n",
       "      <td>37079.000000</td>\n",
       "      <td>37079.000000</td>\n",
       "      <td>1.565000e+03</td>\n",
       "    </tr>\n",
       "    <tr>\n",
       "      <th>mean</th>\n",
       "      <td>21021.998031</td>\n",
       "      <td>4.887142e+06</td>\n",
       "      <td>1.0</td>\n",
       "      <td>638.015966</td>\n",
       "      <td>116.594487</td>\n",
       "      <td>7.673686e+07</td>\n",
       "    </tr>\n",
       "    <tr>\n",
       "      <th>std</th>\n",
       "      <td>15582.937167</td>\n",
       "      <td>3.707155e+06</td>\n",
       "      <td>0.0</td>\n",
       "      <td>533.988314</td>\n",
       "      <td>42.409737</td>\n",
       "      <td>1.863678e+08</td>\n",
       "    </tr>\n",
       "    <tr>\n",
       "      <th>min</th>\n",
       "      <td>0.000000</td>\n",
       "      <td>4.850000e+02</td>\n",
       "      <td>1.0</td>\n",
       "      <td>-27.000000</td>\n",
       "      <td>-2.000000</td>\n",
       "      <td>1.200000e+04</td>\n",
       "    </tr>\n",
       "    <tr>\n",
       "      <th>25%</th>\n",
       "      <td>9409.500000</td>\n",
       "      <td>1.492976e+06</td>\n",
       "      <td>1.0</td>\n",
       "      <td>190.000000</td>\n",
       "      <td>136.000000</td>\n",
       "      <td>8.060268e+06</td>\n",
       "    </tr>\n",
       "    <tr>\n",
       "      <th>50%</th>\n",
       "      <td>18882.000000</td>\n",
       "      <td>4.115693e+06</td>\n",
       "      <td>1.0</td>\n",
       "      <td>544.000000</td>\n",
       "      <td>138.000000</td>\n",
       "      <td>2.318009e+07</td>\n",
       "    </tr>\n",
       "    <tr>\n",
       "      <th>75%</th>\n",
       "      <td>28417.500000</td>\n",
       "      <td>8.194299e+06</td>\n",
       "      <td>1.0</td>\n",
       "      <td>995.000000</td>\n",
       "      <td>138.000000</td>\n",
       "      <td>5.854837e+07</td>\n",
       "    </tr>\n",
       "    <tr>\n",
       "      <th>max</th>\n",
       "      <td>77890.000000</td>\n",
       "      <td>1.119963e+07</td>\n",
       "      <td>1.0</td>\n",
       "      <td>3855.000000</td>\n",
       "      <td>138.000000</td>\n",
       "      <td>2.500000e+09</td>\n",
       "    </tr>\n",
       "  </tbody>\n",
       "</table>\n",
       "</div>"
      ],
      "text/plain": [
       "         Unnamed: 0  advertiser_id  assigned           age   assign_days  \\\n",
       "count  37079.000000   3.707900e+04   37079.0  37079.000000  37079.000000   \n",
       "mean   21021.998031   4.887142e+06       1.0    638.015966    116.594487   \n",
       "std    15582.937167   3.707155e+06       0.0    533.988314     42.409737   \n",
       "min        0.000000   4.850000e+02       1.0    -27.000000     -2.000000   \n",
       "25%     9409.500000   1.492976e+06       1.0    190.000000    136.000000   \n",
       "50%    18882.000000   4.115693e+06       1.0    544.000000    138.000000   \n",
       "75%    28417.500000   8.194299e+06       1.0    995.000000    138.000000   \n",
       "max    77890.000000   1.119963e+07       1.0   3855.000000    138.000000   \n",
       "\n",
       "            revenue  \n",
       "count  1.565000e+03  \n",
       "mean   7.673686e+07  \n",
       "std    1.863678e+08  \n",
       "min    1.200000e+04  \n",
       "25%    8.060268e+06  \n",
       "50%    2.318009e+07  \n",
       "75%    5.854837e+07  \n",
       "max    2.500000e+09  "
      ]
     },
     "execution_count": 19,
     "metadata": {},
     "output_type": "execute_result"
    }
   ],
   "source": [
    "DF_Assigned.describe()\n",
    "# 37079 leads assigned to sales\n",
    "# Mean revenue  : 7.673686e+07"
   ]
  },
  {
   "cell_type": "code",
   "execution_count": 20,
   "id": "5b0d543b",
   "metadata": {},
   "outputs": [
    {
     "data": {
      "text/html": [
       "<div>\n",
       "<style scoped>\n",
       "    .dataframe tbody tr th:only-of-type {\n",
       "        vertical-align: middle;\n",
       "    }\n",
       "\n",
       "    .dataframe tbody tr th {\n",
       "        vertical-align: top;\n",
       "    }\n",
       "\n",
       "    .dataframe thead th {\n",
       "        text-align: right;\n",
       "    }\n",
       "</style>\n",
       "<table border=\"1\" class=\"dataframe\">\n",
       "  <thead>\n",
       "    <tr style=\"text-align: right;\">\n",
       "      <th></th>\n",
       "      <th>Unnamed: 0</th>\n",
       "      <th>advertiser_id</th>\n",
       "      <th>assigned</th>\n",
       "      <th>age</th>\n",
       "      <th>assign_days</th>\n",
       "      <th>revenue</th>\n",
       "    </tr>\n",
       "  </thead>\n",
       "  <tbody>\n",
       "    <tr>\n",
       "      <th>count</th>\n",
       "      <td>40812.000000</td>\n",
       "      <td>4.081200e+04</td>\n",
       "      <td>40812.0</td>\n",
       "      <td>40812.000000</td>\n",
       "      <td>40812.000000</td>\n",
       "      <td>1.775000e+03</td>\n",
       "    </tr>\n",
       "    <tr>\n",
       "      <th>mean</th>\n",
       "      <td>55228.617318</td>\n",
       "      <td>1.068360e+07</td>\n",
       "      <td>0.0</td>\n",
       "      <td>11.907919</td>\n",
       "      <td>124.014971</td>\n",
       "      <td>2.388942e+07</td>\n",
       "    </tr>\n",
       "    <tr>\n",
       "      <th>std</th>\n",
       "      <td>13686.097612</td>\n",
       "      <td>9.120191e+05</td>\n",
       "      <td>0.0</td>\n",
       "      <td>101.619484</td>\n",
       "      <td>36.355873</td>\n",
       "      <td>1.576417e+08</td>\n",
       "    </tr>\n",
       "    <tr>\n",
       "      <th>min</th>\n",
       "      <td>33.000000</td>\n",
       "      <td>6.992000e+03</td>\n",
       "      <td>0.0</td>\n",
       "      <td>0.000000</td>\n",
       "      <td>0.000000</td>\n",
       "      <td>1.300000e+04</td>\n",
       "    </tr>\n",
       "    <tr>\n",
       "      <th>25%</th>\n",
       "      <td>44296.750000</td>\n",
       "      <td>1.079328e+07</td>\n",
       "      <td>0.0</td>\n",
       "      <td>0.000000</td>\n",
       "      <td>136.000000</td>\n",
       "      <td>5.653500e+06</td>\n",
       "    </tr>\n",
       "    <tr>\n",
       "      <th>50%</th>\n",
       "      <td>55528.500000</td>\n",
       "      <td>1.080457e+07</td>\n",
       "      <td>0.0</td>\n",
       "      <td>0.000000</td>\n",
       "      <td>137.000000</td>\n",
       "      <td>1.235334e+07</td>\n",
       "    </tr>\n",
       "    <tr>\n",
       "      <th>75%</th>\n",
       "      <td>66938.250000</td>\n",
       "      <td>1.081605e+07</td>\n",
       "      <td>0.0</td>\n",
       "      <td>0.000000</td>\n",
       "      <td>137.000000</td>\n",
       "      <td>2.467204e+07</td>\n",
       "    </tr>\n",
       "    <tr>\n",
       "      <th>max</th>\n",
       "      <td>77824.000000</td>\n",
       "      <td>1.082697e+07</td>\n",
       "      <td>0.0</td>\n",
       "      <td>3097.000000</td>\n",
       "      <td>138.000000</td>\n",
       "      <td>6.533791e+09</td>\n",
       "    </tr>\n",
       "  </tbody>\n",
       "</table>\n",
       "</div>"
      ],
      "text/plain": [
       "         Unnamed: 0  advertiser_id  assigned           age   assign_days  \\\n",
       "count  40812.000000   4.081200e+04   40812.0  40812.000000  40812.000000   \n",
       "mean   55228.617318   1.068360e+07       0.0     11.907919    124.014971   \n",
       "std    13686.097612   9.120191e+05       0.0    101.619484     36.355873   \n",
       "min       33.000000   6.992000e+03       0.0      0.000000      0.000000   \n",
       "25%    44296.750000   1.079328e+07       0.0      0.000000    136.000000   \n",
       "50%    55528.500000   1.080457e+07       0.0      0.000000    137.000000   \n",
       "75%    66938.250000   1.081605e+07       0.0      0.000000    137.000000   \n",
       "max    77824.000000   1.082697e+07       0.0   3097.000000    138.000000   \n",
       "\n",
       "            revenue  \n",
       "count  1.775000e+03  \n",
       "mean   2.388942e+07  \n",
       "std    1.576417e+08  \n",
       "min    1.300000e+04  \n",
       "25%    5.653500e+06  \n",
       "50%    1.235334e+07  \n",
       "75%    2.467204e+07  \n",
       "max    6.533791e+09  "
      ]
     },
     "execution_count": 20,
     "metadata": {},
     "output_type": "execute_result"
    }
   ],
   "source": [
    "DF_Unassigned.describe()\n",
    "# 40812 leads not assigned to sales, Mean revenue = 2.388942e+07"
   ]
  },
  {
   "cell_type": "code",
   "execution_count": 21,
   "id": "e341578d",
   "metadata": {},
   "outputs": [
    {
     "data": {
      "image/png": "[encoded data removed]",
      "text/plain": [
       "<Figure size 432x288 with 1 Axes>"
      ]
     },
     "metadata": {
      "needs_background": "light"
     },
     "output_type": "display_data"
    }
   ],
   "source": [
    "import matplotlib.pyplot as plt\n",
    "fig = plt.figure()\n",
    "ax = fig.add_axes([0,0,1,1])\n",
    "AssignmentStatus = ['Assigned' , 'Unassigned']\n",
    "revenue = [Data[Data['assigned'] == 1]['revenue'].mean() ,Data[Data['assigned'] == 0]['revenue'].mean()]\n",
    "ax.bar(AssignmentStatus,revenue)\n",
    "plt.show()\n",
    "\n",
    "\n",
    "# More revenue from Assigned group "
   ]
  },
  {
   "cell_type": "code",
   "execution_count": 22,
   "id": "2118cfb5",
   "metadata": {},
   "outputs": [],
   "source": [
    "# Lets take the best data (data with no missing values) and answer all analysis questions, as we can best judge the relationship between the variables using best data\n",
    "# AssignedGroupCompleteData - Assigned Group , Revenue non zero , And Revenue happened after the Lead was assigned to sales \n",
    "AssignedGroupCompleteDataDF = Data[ (Data['assigned'] ==1) & (Data['revenue'] >0) &  (Data['date_assignment_starts'] <= Data['first_revenue_date'])]"
   ]
  },
  {
   "cell_type": "code",
   "execution_count": 23,
   "id": "ec62224b",
   "metadata": {},
   "outputs": [
    {
     "data": {
      "text/html": [
       "<div>\n",
       "<style scoped>\n",
       "    .dataframe tbody tr th:only-of-type {\n",
       "        vertical-align: middle;\n",
       "    }\n",
       "\n",
       "    .dataframe tbody tr th {\n",
       "        vertical-align: top;\n",
       "    }\n",
       "\n",
       "    .dataframe thead th {\n",
       "        text-align: right;\n",
       "    }\n",
       "</style>\n",
       "<table border=\"1\" class=\"dataframe\">\n",
       "  <thead>\n",
       "    <tr style=\"text-align: right;\">\n",
       "      <th></th>\n",
       "      <th>Unnamed: 0</th>\n",
       "      <th>advertiser_id</th>\n",
       "      <th>assigned</th>\n",
       "      <th>age</th>\n",
       "      <th>assign_days</th>\n",
       "      <th>revenue</th>\n",
       "    </tr>\n",
       "  </thead>\n",
       "  <tbody>\n",
       "    <tr>\n",
       "      <th>count</th>\n",
       "      <td>301.000000</td>\n",
       "      <td>3.010000e+02</td>\n",
       "      <td>301.0</td>\n",
       "      <td>301.000000</td>\n",
       "      <td>301.000000</td>\n",
       "      <td>3.010000e+02</td>\n",
       "    </tr>\n",
       "    <tr>\n",
       "      <th>mean</th>\n",
       "      <td>45288.857143</td>\n",
       "      <td>9.659103e+06</td>\n",
       "      <td>1.0</td>\n",
       "      <td>101.448505</td>\n",
       "      <td>98.863787</td>\n",
       "      <td>5.159977e+07</td>\n",
       "    </tr>\n",
       "    <tr>\n",
       "      <th>std</th>\n",
       "      <td>18472.463094</td>\n",
       "      <td>2.515569e+06</td>\n",
       "      <td>0.0</td>\n",
       "      <td>242.773135</td>\n",
       "      <td>52.620446</td>\n",
       "      <td>1.157795e+08</td>\n",
       "    </tr>\n",
       "    <tr>\n",
       "      <th>min</th>\n",
       "      <td>3656.000000</td>\n",
       "      <td>4.295490e+05</td>\n",
       "      <td>1.0</td>\n",
       "      <td>-22.000000</td>\n",
       "      <td>0.000000</td>\n",
       "      <td>1.247200e+05</td>\n",
       "    </tr>\n",
       "    <tr>\n",
       "      <th>25%</th>\n",
       "      <td>33670.000000</td>\n",
       "      <td>1.061682e+07</td>\n",
       "      <td>1.0</td>\n",
       "      <td>0.000000</td>\n",
       "      <td>57.000000</td>\n",
       "      <td>7.336935e+06</td>\n",
       "    </tr>\n",
       "    <tr>\n",
       "      <th>50%</th>\n",
       "      <td>41774.000000</td>\n",
       "      <td>1.079073e+07</td>\n",
       "      <td>1.0</td>\n",
       "      <td>0.000000</td>\n",
       "      <td>136.000000</td>\n",
       "      <td>2.167627e+07</td>\n",
       "    </tr>\n",
       "    <tr>\n",
       "      <th>75%</th>\n",
       "      <td>59992.000000</td>\n",
       "      <td>1.080905e+07</td>\n",
       "      <td>1.0</td>\n",
       "      <td>13.000000</td>\n",
       "      <td>138.000000</td>\n",
       "      <td>5.000000e+07</td>\n",
       "    </tr>\n",
       "    <tr>\n",
       "      <th>max</th>\n",
       "      <td>77886.000000</td>\n",
       "      <td>1.114089e+07</td>\n",
       "      <td>1.0</td>\n",
       "      <td>1461.000000</td>\n",
       "      <td>138.000000</td>\n",
       "      <td>1.618767e+09</td>\n",
       "    </tr>\n",
       "  </tbody>\n",
       "</table>\n",
       "</div>"
      ],
      "text/plain": [
       "         Unnamed: 0  advertiser_id  assigned          age  assign_days  \\\n",
       "count    301.000000   3.010000e+02     301.0   301.000000   301.000000   \n",
       "mean   45288.857143   9.659103e+06       1.0   101.448505    98.863787   \n",
       "std    18472.463094   2.515569e+06       0.0   242.773135    52.620446   \n",
       "min     3656.000000   4.295490e+05       1.0   -22.000000     0.000000   \n",
       "25%    33670.000000   1.061682e+07       1.0     0.000000    57.000000   \n",
       "50%    41774.000000   1.079073e+07       1.0     0.000000   136.000000   \n",
       "75%    59992.000000   1.080905e+07       1.0    13.000000   138.000000   \n",
       "max    77886.000000   1.114089e+07       1.0  1461.000000   138.000000   \n",
       "\n",
       "            revenue  \n",
       "count  3.010000e+02  \n",
       "mean   5.159977e+07  \n",
       "std    1.157795e+08  \n",
       "min    1.247200e+05  \n",
       "25%    7.336935e+06  \n",
       "50%    2.167627e+07  \n",
       "75%    5.000000e+07  \n",
       "max    1.618767e+09  "
      ]
     },
     "execution_count": 23,
     "metadata": {},
     "output_type": "execute_result"
    }
   ],
   "source": [
    "AssignedGroupCompleteDataDF.describe() ## 301 rows , Mean revenue : 5.159977e+07"
   ]
  },
  {
   "cell_type": "code",
   "execution_count": 24,
   "id": "c27d7584",
   "metadata": {},
   "outputs": [],
   "source": [
    "UnassignedCompleteDataDF = Data[ (Data['assigned'] ==0) & (Data['revenue'] >0) &  (Data['date_assignment_starts'] <= Data['first_revenue_date'])]"
   ]
  },
  {
   "cell_type": "code",
   "execution_count": 25,
   "id": "fb746802",
   "metadata": {},
   "outputs": [
    {
     "data": {
      "text/html": [
       "<div>\n",
       "<style scoped>\n",
       "    .dataframe tbody tr th:only-of-type {\n",
       "        vertical-align: middle;\n",
       "    }\n",
       "\n",
       "    .dataframe tbody tr th {\n",
       "        vertical-align: top;\n",
       "    }\n",
       "\n",
       "    .dataframe thead th {\n",
       "        text-align: right;\n",
       "    }\n",
       "</style>\n",
       "<table border=\"1\" class=\"dataframe\">\n",
       "  <thead>\n",
       "    <tr style=\"text-align: right;\">\n",
       "      <th></th>\n",
       "      <th>Unnamed: 0</th>\n",
       "      <th>advertiser_id</th>\n",
       "      <th>assigned</th>\n",
       "      <th>age</th>\n",
       "      <th>assign_days</th>\n",
       "      <th>revenue</th>\n",
       "    </tr>\n",
       "  </thead>\n",
       "  <tbody>\n",
       "    <tr>\n",
       "      <th>count</th>\n",
       "      <td>792.000000</td>\n",
       "      <td>7.920000e+02</td>\n",
       "      <td>792.0</td>\n",
       "      <td>792.000000</td>\n",
       "      <td>792.000000</td>\n",
       "      <td>7.920000e+02</td>\n",
       "    </tr>\n",
       "    <tr>\n",
       "      <th>mean</th>\n",
       "      <td>55474.489899</td>\n",
       "      <td>1.074993e+07</td>\n",
       "      <td>0.0</td>\n",
       "      <td>5.736111</td>\n",
       "      <td>79.614899</td>\n",
       "      <td>1.759331e+07</td>\n",
       "    </tr>\n",
       "    <tr>\n",
       "      <th>std</th>\n",
       "      <td>12925.318374</td>\n",
       "      <td>6.598632e+05</td>\n",
       "      <td>0.0</td>\n",
       "      <td>73.497455</td>\n",
       "      <td>63.082607</td>\n",
       "      <td>3.040057e+07</td>\n",
       "    </tr>\n",
       "    <tr>\n",
       "      <th>min</th>\n",
       "      <td>5566.000000</td>\n",
       "      <td>7.478460e+05</td>\n",
       "      <td>0.0</td>\n",
       "      <td>0.000000</td>\n",
       "      <td>0.000000</td>\n",
       "      <td>1.300000e+04</td>\n",
       "    </tr>\n",
       "    <tr>\n",
       "      <th>25%</th>\n",
       "      <td>44935.250000</td>\n",
       "      <td>1.079392e+07</td>\n",
       "      <td>0.0</td>\n",
       "      <td>0.000000</td>\n",
       "      <td>4.000000</td>\n",
       "      <td>4.694012e+06</td>\n",
       "    </tr>\n",
       "    <tr>\n",
       "      <th>50%</th>\n",
       "      <td>53787.500000</td>\n",
       "      <td>1.080283e+07</td>\n",
       "      <td>0.0</td>\n",
       "      <td>0.000000</td>\n",
       "      <td>136.000000</td>\n",
       "      <td>1.083337e+07</td>\n",
       "    </tr>\n",
       "    <tr>\n",
       "      <th>75%</th>\n",
       "      <td>66917.000000</td>\n",
       "      <td>1.081603e+07</td>\n",
       "      <td>0.0</td>\n",
       "      <td>0.000000</td>\n",
       "      <td>137.000000</td>\n",
       "      <td>2.140200e+07</td>\n",
       "    </tr>\n",
       "    <tr>\n",
       "      <th>max</th>\n",
       "      <td>77824.000000</td>\n",
       "      <td>1.082697e+07</td>\n",
       "      <td>0.0</td>\n",
       "      <td>1290.000000</td>\n",
       "      <td>138.000000</td>\n",
       "      <td>5.883000e+08</td>\n",
       "    </tr>\n",
       "  </tbody>\n",
       "</table>\n",
       "</div>"
      ],
      "text/plain": [
       "         Unnamed: 0  advertiser_id  assigned          age  assign_days  \\\n",
       "count    792.000000   7.920000e+02     792.0   792.000000   792.000000   \n",
       "mean   55474.489899   1.074993e+07       0.0     5.736111    79.614899   \n",
       "std    12925.318374   6.598632e+05       0.0    73.497455    63.082607   \n",
       "min     5566.000000   7.478460e+05       0.0     0.000000     0.000000   \n",
       "25%    44935.250000   1.079392e+07       0.0     0.000000     4.000000   \n",
       "50%    53787.500000   1.080283e+07       0.0     0.000000   136.000000   \n",
       "75%    66917.000000   1.081603e+07       0.0     0.000000   137.000000   \n",
       "max    77824.000000   1.082697e+07       0.0  1290.000000   138.000000   \n",
       "\n",
       "            revenue  \n",
       "count  7.920000e+02  \n",
       "mean   1.759331e+07  \n",
       "std    3.040057e+07  \n",
       "min    1.300000e+04  \n",
       "25%    4.694012e+06  \n",
       "50%    1.083337e+07  \n",
       "75%    2.140200e+07  \n",
       "max    5.883000e+08  "
      ]
     },
     "execution_count": 25,
     "metadata": {},
     "output_type": "execute_result"
    }
   ],
   "source": [
    "UnassignedCompleteDataDF.describe() ## 792 rows , 1.759331e+07 Mean revenue"
   ]
  },
  {
   "cell_type": "code",
   "execution_count": 26,
   "id": "642d2b05",
   "metadata": {},
   "outputs": [
    {
     "data": {
      "image/png": "[encoded data removed]",
      "text/plain": [
       "<Figure size 432x288 with 1 Axes>"
      ]
     },
     "metadata": {
      "needs_background": "light"
     },
     "output_type": "display_data"
    }
   ],
   "source": [
    "import matplotlib.pyplot as plt\n",
    "fig = plt.figure()\n",
    "ax = fig.add_axes([0,0,1,1])\n",
    "AssignmentStatus = ['Assigned' , 'Unassigned']\n",
    "revenue = AssignedGroupCompleteDataDF['revenue'].mean() , UnassignedCompleteDataDF['revenue'].mean()\n",
    "ax.bar(AssignmentStatus,revenue)\n",
    "plt.show()\n",
    "\n",
    "\n",
    "# More revenue from Assigned group in the complete data rows as well"
   ]
  },
  {
   "cell_type": "markdown",
   "id": "fc515aff",
   "metadata": {},
   "source": [
    "##### Question 2  Metric 1 : Mean Revenue"
   ]
  },
  {
   "cell_type": "code",
   "execution_count": 27,
   "id": "b60c69e2",
   "metadata": {},
   "outputs": [
    {
     "data": {
      "text/html": [
       "<div>\n",
       "<style scoped>\n",
       "    .dataframe tbody tr th:only-of-type {\n",
       "        vertical-align: middle;\n",
       "    }\n",
       "\n",
       "    .dataframe tbody tr th {\n",
       "        vertical-align: top;\n",
       "    }\n",
       "\n",
       "    .dataframe thead th {\n",
       "        text-align: right;\n",
       "    }\n",
       "</style>\n",
       "<table border=\"1\" class=\"dataframe\">\n",
       "  <thead>\n",
       "    <tr style=\"text-align: right;\">\n",
       "      <th></th>\n",
       "      <th>Unnamed: 0</th>\n",
       "      <th>advertiser_id</th>\n",
       "      <th>assigned</th>\n",
       "      <th>age</th>\n",
       "      <th>assign_days</th>\n",
       "      <th>revenue</th>\n",
       "    </tr>\n",
       "  </thead>\n",
       "  <tbody>\n",
       "    <tr>\n",
       "      <th>count</th>\n",
       "      <td>301.000000</td>\n",
       "      <td>3.010000e+02</td>\n",
       "      <td>301.0</td>\n",
       "      <td>301.000000</td>\n",
       "      <td>301.000000</td>\n",
       "      <td>3.010000e+02</td>\n",
       "    </tr>\n",
       "    <tr>\n",
       "      <th>mean</th>\n",
       "      <td>45288.857143</td>\n",
       "      <td>9.659103e+06</td>\n",
       "      <td>1.0</td>\n",
       "      <td>101.448505</td>\n",
       "      <td>98.863787</td>\n",
       "      <td>5.159977e+07</td>\n",
       "    </tr>\n",
       "    <tr>\n",
       "      <th>std</th>\n",
       "      <td>18472.463094</td>\n",
       "      <td>2.515569e+06</td>\n",
       "      <td>0.0</td>\n",
       "      <td>242.773135</td>\n",
       "      <td>52.620446</td>\n",
       "      <td>1.157795e+08</td>\n",
       "    </tr>\n",
       "    <tr>\n",
       "      <th>min</th>\n",
       "      <td>3656.000000</td>\n",
       "      <td>4.295490e+05</td>\n",
       "      <td>1.0</td>\n",
       "      <td>-22.000000</td>\n",
       "      <td>0.000000</td>\n",
       "      <td>1.247200e+05</td>\n",
       "    </tr>\n",
       "    <tr>\n",
       "      <th>25%</th>\n",
       "      <td>33670.000000</td>\n",
       "      <td>1.061682e+07</td>\n",
       "      <td>1.0</td>\n",
       "      <td>0.000000</td>\n",
       "      <td>57.000000</td>\n",
       "      <td>7.336935e+06</td>\n",
       "    </tr>\n",
       "    <tr>\n",
       "      <th>50%</th>\n",
       "      <td>41774.000000</td>\n",
       "      <td>1.079073e+07</td>\n",
       "      <td>1.0</td>\n",
       "      <td>0.000000</td>\n",
       "      <td>136.000000</td>\n",
       "      <td>2.167627e+07</td>\n",
       "    </tr>\n",
       "    <tr>\n",
       "      <th>75%</th>\n",
       "      <td>59992.000000</td>\n",
       "      <td>1.080905e+07</td>\n",
       "      <td>1.0</td>\n",
       "      <td>13.000000</td>\n",
       "      <td>138.000000</td>\n",
       "      <td>5.000000e+07</td>\n",
       "    </tr>\n",
       "    <tr>\n",
       "      <th>max</th>\n",
       "      <td>77886.000000</td>\n",
       "      <td>1.114089e+07</td>\n",
       "      <td>1.0</td>\n",
       "      <td>1461.000000</td>\n",
       "      <td>138.000000</td>\n",
       "      <td>1.618767e+09</td>\n",
       "    </tr>\n",
       "  </tbody>\n",
       "</table>\n",
       "</div>"
      ],
      "text/plain": [
       "         Unnamed: 0  advertiser_id  assigned          age  assign_days  \\\n",
       "count    301.000000   3.010000e+02     301.0   301.000000   301.000000   \n",
       "mean   45288.857143   9.659103e+06       1.0   101.448505    98.863787   \n",
       "std    18472.463094   2.515569e+06       0.0   242.773135    52.620446   \n",
       "min     3656.000000   4.295490e+05       1.0   -22.000000     0.000000   \n",
       "25%    33670.000000   1.061682e+07       1.0     0.000000    57.000000   \n",
       "50%    41774.000000   1.079073e+07       1.0     0.000000   136.000000   \n",
       "75%    59992.000000   1.080905e+07       1.0    13.000000   138.000000   \n",
       "max    77886.000000   1.114089e+07       1.0  1461.000000   138.000000   \n",
       "\n",
       "            revenue  \n",
       "count  3.010000e+02  \n",
       "mean   5.159977e+07  \n",
       "std    1.157795e+08  \n",
       "min    1.247200e+05  \n",
       "25%    7.336935e+06  \n",
       "50%    2.167627e+07  \n",
       "75%    5.000000e+07  \n",
       "max    1.618767e+09  "
      ]
     },
     "execution_count": 27,
     "metadata": {},
     "output_type": "execute_result"
    }
   ],
   "source": [
    "AssignedGroupCompleteDataDF.describe() # 301 rows ONLY\n",
    "# Mean revenue from Assigned Group , Revenue non zero , And Revenue happened after the Lead was assigned to sales\n",
    "# 5.159977e+07"
   ]
  },
  {
   "cell_type": "markdown",
   "id": "1927405f",
   "metadata": {},
   "source": [
    "Most important metric:  Mean Revenue \n",
    "\n",
    "Increase in average revenue of Assigned Leads, as compared to unassigned leads.  \n",
    "\n",
    "Assigned Leads count - 37079, Mean Revenue from customers who made purchase after sales team assigned. = 51599770 \n",
    "\n",
    "Unassigned Leads count - 40812, Mean Revenue = 23889420 \n",
    "\n",
    "Increment in Average revenue due to lead assignment = 51599770 – 23889420 = 27710350 \n",
    "\n",
    "So, on an average, the leads spent 27710350 more after sales was assigned. "
   ]
  },
  {
   "cell_type": "code",
   "execution_count": 28,
   "id": "04c96ce8",
   "metadata": {},
   "outputs": [],
   "source": [
    "Data_clean = Data"
   ]
  },
  {
   "cell_type": "markdown",
   "id": "06d7918b",
   "metadata": {},
   "source": [
    "##### Question 2 Metric 2 : CONVERSION DAYS"
   ]
  },
  {
   "cell_type": "code",
   "execution_count": 29,
   "id": "a2a5f80d",
   "metadata": {},
   "outputs": [],
   "source": [
    "Data_clean['ConversionDays'] = np.where( Data_clean['first_revenue_date'].isna(), -1 , pd.to_datetime(Data_clean['first_revenue_date']) - pd.to_datetime(Data_clean['date_assignment_starts']) )"
   ]
  },
  {
   "cell_type": "code",
   "execution_count": 30,
   "id": "5a22ea24",
   "metadata": {},
   "outputs": [],
   "source": [
    "Data_clean['ConversionDays'] = Data_clean['ConversionDays'].dt.days"
   ]
  },
  {
   "cell_type": "code",
   "execution_count": 31,
   "id": "76335cae",
   "metadata": {},
   "outputs": [],
   "source": [
    "# removing all negatove values from conversion days\n",
    "Data_clean['ConversionDays'] = np.where(Data_clean['ConversionDays']>0 , Data_clean['ConversionDays'] , 0 )"
   ]
  },
  {
   "cell_type": "code",
   "execution_count": 32,
   "id": "48300aea",
   "metadata": {},
   "outputs": [
    {
     "data": {
      "text/plain": [
       "count    77891.000000\n",
       "mean         1.027115\n",
       "std          8.864400\n",
       "min          0.000000\n",
       "25%          0.000000\n",
       "50%          0.000000\n",
       "75%          0.000000\n",
       "max        136.000000\n",
       "Name: ConversionDays, dtype: float64"
      ]
     },
     "execution_count": 32,
     "metadata": {},
     "output_type": "execute_result"
    }
   ],
   "source": [
    "Data_clean['ConversionDays'].describe()"
   ]
  },
  {
   "cell_type": "code",
   "execution_count": 33,
   "id": "c0b7ee5b",
   "metadata": {},
   "outputs": [
    {
     "data": {
      "image/png": "[encoded data removed]",
      "text/plain": [
       "<Figure size 432x288 with 1 Axes>"
      ]
     },
     "metadata": {
      "needs_background": "light"
     },
     "output_type": "display_data"
    }
   ],
   "source": [
    "# Relationship of Revenue with ConversionDays, where conversiondays is positive\n",
    "import matplotlib.pyplot as plt\n",
    "\n",
    "plt.bar(Data_clean['ConversionDays'],Data_clean['revenue'])\n",
    "plt.title('Revenue with ConversionDays ')\n",
    "plt.xlabel('ConversionDays')\n",
    "plt.ylabel('Revenue')\n",
    "plt.show()\n",
    "# Inference : Revenue is more when conversiondays is less, basically probability of lead getting converted to customer is more in the start of the sales assignment period"
   ]
  },
  {
   "cell_type": "code",
   "execution_count": 35,
   "id": "0575133f",
   "metadata": {},
   "outputs": [
    {
     "data": {
      "text/plain": [
       "Unnamed: 0        4.806066e+04\n",
       "advertiser_id     9.680219e+06\n",
       "assigned          3.734940e-01\n",
       "age               1.095081e+02\n",
       "assign_days       9.607727e+01\n",
       "revenue           2.695831e+07\n",
       "ConversionDays    3.323764e+01\n",
       "dtype: float64"
      ]
     },
     "execution_count": 35,
     "metadata": {},
     "output_type": "execute_result"
    }
   ],
   "source": [
    "\n",
    "# Mean Conversion days required in entire data = 33 days \n",
    "np.mean(Data_clean[(Data_clean['first_revenue_date'].notna()) & (Data_clean['ConversionDays'] >0)])"
   ]
  },
  {
   "cell_type": "code",
   "execution_count": 36,
   "id": "4f32ae4a",
   "metadata": {},
   "outputs": [
    {
     "data": {
      "text/plain": [
       "Unnamed: 0        5.549539e+04\n",
       "advertiser_id     1.071759e+07\n",
       "assigned          0.000000e+00\n",
       "age               8.348806e+00\n",
       "assign_days       8.933820e+01\n",
       "revenue           1.759331e+07\n",
       "ConversionDays    2.704377e+01\n",
       "dtype: float64"
      ]
     },
     "execution_count": 36,
     "metadata": {},
     "output_type": "execute_result"
    }
   ],
   "source": [
    "# Mean Conversion days required in Unassigned Group = 27 days (considering all rows)\n",
    "np.mean(Data_clean[(Data_clean['first_revenue_date'].notna()) &(Data_clean['assigned']==0) & (Data_clean['ConversionDays'] >0)])"
   ]
  },
  {
   "cell_type": "code",
   "execution_count": 37,
   "id": "53d0eb3b",
   "metadata": {},
   "outputs": [
    {
     "data": {
      "text/plain": [
       "Unnamed: 0        5.547449e+04\n",
       "advertiser_id     1.074993e+07\n",
       "assigned          0.000000e+00\n",
       "age               5.736111e+00\n",
       "assign_days       7.961490e+01\n",
       "revenue           1.759331e+07\n",
       "ConversionDays    5.526515e+00\n",
       "dtype: float64"
      ]
     },
     "execution_count": 37,
     "metadata": {},
     "output_type": "execute_result"
    }
   ],
   "source": [
    "# Mean Conversion days required in Unassigned Group = 5  days (considering only the rows with revenue)\n",
    "np.mean(Data_clean[(Data_clean['first_revenue_date'].notna()) &(Data_clean['assigned']==0) & (Data_clean['ConversionDays'] >0) & (Data_clean['revenue']>0)])"
   ]
  },
  {
   "cell_type": "code",
   "execution_count": 38,
   "id": "9daf4ee2",
   "metadata": {
    "scrolled": true
   },
   "outputs": [
    {
     "data": {
      "text/plain": [
       "Unnamed: 0        3.558951e+04\n",
       "advertiser_id     7.940119e+06\n",
       "assigned          1.000000e+00\n",
       "age               2.791947e+02\n",
       "assign_days       1.073815e+02\n",
       "revenue           5.159977e+07\n",
       "ConversionDays    4.362736e+01\n",
       "dtype: float64"
      ]
     },
     "execution_count": 38,
     "metadata": {},
     "output_type": "execute_result"
    }
   ],
   "source": [
    "# Mean Conversion days required in Assigned Group = 43 days (Considering all rows) \n",
    "np.mean(Data_clean[(Data_clean['first_revenue_date'].notna()) &(Data_clean['assigned']==1) & (Data_clean['ConversionDays'] >0)])"
   ]
  },
  {
   "cell_type": "code",
   "execution_count": 40,
   "id": "bfa15694",
   "metadata": {
    "scrolled": false
   },
   "outputs": [
    {
     "data": {
      "text/plain": [
       "Unnamed: 0        4.528886e+04\n",
       "advertiser_id     9.659103e+06\n",
       "assigned          1.000000e+00\n",
       "age               1.014485e+02\n",
       "assign_days       9.886379e+01\n",
       "revenue           5.159977e+07\n",
       "ConversionDays    8.757475e+00\n",
       "dtype: float64"
      ]
     },
     "execution_count": 40,
     "metadata": {},
     "output_type": "execute_result"
    }
   ],
   "source": [
    "# Mean Conversion days required in Assigned Group = 8 days (Considering only the rows having revenue) \n",
    "np.mean(Data_clean[(Data_clean['first_revenue_date'].notna()) &(Data_clean['assigned']==1) & (Data_clean['ConversionDays'] >0) & (Data_clean['revenue']>0)])"
   ]
  },
  {
   "cell_type": "markdown",
   "id": "ee2c183a",
   "metadata": {},
   "source": [
    "##### Question 2 : Metric : Number of customers"
   ]
  },
  {
   "cell_type": "code",
   "execution_count": 41,
   "id": "faa54dc7",
   "metadata": {},
   "outputs": [
    {
     "name": "stdout",
     "output_type": "stream",
     "text": [
      "<class 'pandas.core.frame.DataFrame'>\n",
      "Int64Index: 3340 entries, 20 to 77886\n",
      "Data columns (total 11 columns):\n",
      " #   Column                  Non-Null Count  Dtype  \n",
      "---  ------                  --------------  -----  \n",
      " 0   Unnamed: 0              3340 non-null   int64  \n",
      " 1   advertiser_id           3340 non-null   int64  \n",
      " 2   assigned                3340 non-null   int64  \n",
      " 3   date_assignment_starts  3340 non-null   object \n",
      " 4   date_assignment_ends    3340 non-null   object \n",
      " 5   first_revenue_date      3340 non-null   object \n",
      " 6   date_created            3340 non-null   object \n",
      " 7   age                     3340 non-null   int64  \n",
      " 8   assign_days             3340 non-null   int64  \n",
      " 9   revenue                 3340 non-null   float64\n",
      " 10  ConversionDays          3340 non-null   int64  \n",
      "dtypes: float64(1), int64(6), object(4)\n",
      "memory usage: 313.1+ KB\n"
     ]
    },
    {
     "data": {
      "text/html": [
       "<div>\n",
       "<style scoped>\n",
       "    .dataframe tbody tr th:only-of-type {\n",
       "        vertical-align: middle;\n",
       "    }\n",
       "\n",
       "    .dataframe tbody tr th {\n",
       "        vertical-align: top;\n",
       "    }\n",
       "\n",
       "    .dataframe thead th {\n",
       "        text-align: right;\n",
       "    }\n",
       "</style>\n",
       "<table border=\"1\" class=\"dataframe\">\n",
       "  <thead>\n",
       "    <tr style=\"text-align: right;\">\n",
       "      <th></th>\n",
       "      <th>Unnamed: 0</th>\n",
       "      <th>advertiser_id</th>\n",
       "      <th>date_assignment_starts</th>\n",
       "      <th>date_assignment_ends</th>\n",
       "      <th>first_revenue_date</th>\n",
       "      <th>date_created</th>\n",
       "      <th>age</th>\n",
       "      <th>assign_days</th>\n",
       "      <th>revenue</th>\n",
       "      <th>ConversionDays</th>\n",
       "    </tr>\n",
       "    <tr>\n",
       "      <th>assigned</th>\n",
       "      <th></th>\n",
       "      <th></th>\n",
       "      <th></th>\n",
       "      <th></th>\n",
       "      <th></th>\n",
       "      <th></th>\n",
       "      <th></th>\n",
       "      <th></th>\n",
       "      <th></th>\n",
       "      <th></th>\n",
       "    </tr>\n",
       "  </thead>\n",
       "  <tbody>\n",
       "    <tr>\n",
       "      <th>0</th>\n",
       "      <td>1775</td>\n",
       "      <td>1775</td>\n",
       "      <td>1775</td>\n",
       "      <td>1775</td>\n",
       "      <td>1775</td>\n",
       "      <td>1775</td>\n",
       "      <td>1775</td>\n",
       "      <td>1775</td>\n",
       "      <td>1775</td>\n",
       "      <td>1775</td>\n",
       "    </tr>\n",
       "    <tr>\n",
       "      <th>1</th>\n",
       "      <td>1565</td>\n",
       "      <td>1565</td>\n",
       "      <td>1565</td>\n",
       "      <td>1565</td>\n",
       "      <td>1565</td>\n",
       "      <td>1565</td>\n",
       "      <td>1565</td>\n",
       "      <td>1565</td>\n",
       "      <td>1565</td>\n",
       "      <td>1565</td>\n",
       "    </tr>\n",
       "  </tbody>\n",
       "</table>\n",
       "</div>"
      ],
      "text/plain": [
       "          Unnamed: 0  advertiser_id  date_assignment_starts  \\\n",
       "assigned                                                      \n",
       "0               1775           1775                    1775   \n",
       "1               1565           1565                    1565   \n",
       "\n",
       "          date_assignment_ends  first_revenue_date  date_created   age  \\\n",
       "assigned                                                                 \n",
       "0                         1775                1775          1775  1775   \n",
       "1                         1565                1565          1565  1565   \n",
       "\n",
       "          assign_days  revenue  ConversionDays  \n",
       "assigned                                        \n",
       "0                1775     1775            1775  \n",
       "1                1565     1565            1565  "
      ]
     },
     "execution_count": 41,
     "metadata": {},
     "output_type": "execute_result"
    }
   ],
   "source": [
    "RevenueGeneratingCustomers = Data[Data['revenue']>0]\n",
    "RevenueGeneratingCustomers.describe()\n",
    "# Mean revenue from 3340 revenue generating cutomers is 48651770\n",
    "RevenueGeneratingCustomers.info()    # -- no null values in these. \n",
    "RevenueGeneratingCustomers.groupby('assigned').count() ### 1775 have sales assigned. 1565 have no sales assigned"
   ]
  },
  {
   "cell_type": "markdown",
   "id": "0dce5e24",
   "metadata": {},
   "source": [
    "###### Data Clean is entire dataset with additional columns and some preprocessing"
   ]
  },
  {
   "cell_type": "code",
   "execution_count": 42,
   "id": "1768648c",
   "metadata": {},
   "outputs": [
    {
     "data": {
      "text/plain": [
       "0       2006-07-14\n",
       "1       2006-08-02\n",
       "2       2006-08-17\n",
       "3       2006-09-12\n",
       "4       2006-11-02\n",
       "           ...    \n",
       "77886   2017-02-23\n",
       "77887   2017-02-23\n",
       "77888   2017-02-24\n",
       "77889   2017-02-28\n",
       "77890   2017-02-28\n",
       "Name: date_created, Length: 77891, dtype: datetime64[ns]"
      ]
     },
     "execution_count": 42,
     "metadata": {},
     "output_type": "execute_result"
    }
   ],
   "source": [
    "pd.to_datetime(Data['date_assignment_starts'])\n",
    "pd.to_datetime(Data['date_assignment_ends'])\n",
    "pd.to_datetime(Data['first_revenue_date'])\n",
    "pd.to_datetime(Data['date_created'])"
   ]
  },
  {
   "cell_type": "code",
   "execution_count": 43,
   "id": "8ff20461",
   "metadata": {},
   "outputs": [],
   "source": [
    "# Total number of Leads represented in this dataset is 77891 \n",
    "# No revenue from 74551 leads\n",
    "# Revenue from 77891 - 74551 = 3340 leads\n",
    "# Assigned Leads count - 37079 , Mean Revenue = 76736860\n",
    "# Unassigned Leads count - 40812, Mean Revenue = 23889420\n"
   ]
  },
  {
   "cell_type": "code",
   "execution_count": 44,
   "id": "93dc9a08",
   "metadata": {},
   "outputs": [
    {
     "data": {
      "text/html": [
       "<div>\n",
       "<style scoped>\n",
       "    .dataframe tbody tr th:only-of-type {\n",
       "        vertical-align: middle;\n",
       "    }\n",
       "\n",
       "    .dataframe tbody tr th {\n",
       "        vertical-align: top;\n",
       "    }\n",
       "\n",
       "    .dataframe thead th {\n",
       "        text-align: right;\n",
       "    }\n",
       "</style>\n",
       "<table border=\"1\" class=\"dataframe\">\n",
       "  <thead>\n",
       "    <tr style=\"text-align: right;\">\n",
       "      <th></th>\n",
       "      <th>Unnamed: 0</th>\n",
       "      <th>advertiser_id</th>\n",
       "      <th>assigned</th>\n",
       "      <th>date_assignment_starts</th>\n",
       "      <th>date_assignment_ends</th>\n",
       "      <th>first_revenue_date</th>\n",
       "      <th>date_created</th>\n",
       "      <th>age</th>\n",
       "      <th>assign_days</th>\n",
       "      <th>revenue</th>\n",
       "      <th>ConversionDays</th>\n",
       "    </tr>\n",
       "  </thead>\n",
       "  <tbody>\n",
       "    <tr>\n",
       "      <th>0</th>\n",
       "      <td>0</td>\n",
       "      <td>485</td>\n",
       "      <td>1</td>\n",
       "      <td>2017-02-01 00:00:00.000000</td>\n",
       "      <td>2017-06-19 12:12:37.888680</td>\n",
       "      <td>NaN</td>\n",
       "      <td>2006-07-14</td>\n",
       "      <td>3855</td>\n",
       "      <td>138</td>\n",
       "      <td>NaN</td>\n",
       "      <td>0</td>\n",
       "    </tr>\n",
       "    <tr>\n",
       "      <th>1</th>\n",
       "      <td>1</td>\n",
       "      <td>598</td>\n",
       "      <td>1</td>\n",
       "      <td>2017-02-01 00:00:00.000000</td>\n",
       "      <td>2017-06-19 12:12:37.888680</td>\n",
       "      <td>NaN</td>\n",
       "      <td>2006-08-02</td>\n",
       "      <td>3836</td>\n",
       "      <td>138</td>\n",
       "      <td>NaN</td>\n",
       "      <td>0</td>\n",
       "    </tr>\n",
       "    <tr>\n",
       "      <th>2</th>\n",
       "      <td>2</td>\n",
       "      <td>673</td>\n",
       "      <td>1</td>\n",
       "      <td>2017-02-01 00:00:00.000000</td>\n",
       "      <td>2017-04-28 15:36:30.000000</td>\n",
       "      <td>NaN</td>\n",
       "      <td>2006-08-17</td>\n",
       "      <td>3821</td>\n",
       "      <td>86</td>\n",
       "      <td>NaN</td>\n",
       "      <td>0</td>\n",
       "    </tr>\n",
       "    <tr>\n",
       "      <th>3</th>\n",
       "      <td>3</td>\n",
       "      <td>813</td>\n",
       "      <td>1</td>\n",
       "      <td>2017-02-01 00:00:00.000000</td>\n",
       "      <td>2017-06-19 12:12:37.888680</td>\n",
       "      <td>NaN</td>\n",
       "      <td>2006-09-12</td>\n",
       "      <td>3795</td>\n",
       "      <td>138</td>\n",
       "      <td>NaN</td>\n",
       "      <td>0</td>\n",
       "    </tr>\n",
       "    <tr>\n",
       "      <th>4</th>\n",
       "      <td>4</td>\n",
       "      <td>1132</td>\n",
       "      <td>1</td>\n",
       "      <td>2017-02-01 00:00:00.000000</td>\n",
       "      <td>2017-06-19 12:12:37.888680</td>\n",
       "      <td>NaN</td>\n",
       "      <td>2006-11-02</td>\n",
       "      <td>3744</td>\n",
       "      <td>138</td>\n",
       "      <td>NaN</td>\n",
       "      <td>0</td>\n",
       "    </tr>\n",
       "  </tbody>\n",
       "</table>\n",
       "</div>"
      ],
      "text/plain": [
       "   Unnamed: 0  advertiser_id  assigned      date_assignment_starts  \\\n",
       "0           0            485         1  2017-02-01 00:00:00.000000   \n",
       "1           1            598         1  2017-02-01 00:00:00.000000   \n",
       "2           2            673         1  2017-02-01 00:00:00.000000   \n",
       "3           3            813         1  2017-02-01 00:00:00.000000   \n",
       "4           4           1132         1  2017-02-01 00:00:00.000000   \n",
       "\n",
       "         date_assignment_ends first_revenue_date date_created   age  \\\n",
       "0  2017-06-19 12:12:37.888680                NaN   2006-07-14  3855   \n",
       "1  2017-06-19 12:12:37.888680                NaN   2006-08-02  3836   \n",
       "2  2017-04-28 15:36:30.000000                NaN   2006-08-17  3821   \n",
       "3  2017-06-19 12:12:37.888680                NaN   2006-09-12  3795   \n",
       "4  2017-06-19 12:12:37.888680                NaN   2006-11-02  3744   \n",
       "\n",
       "   assign_days  revenue  ConversionDays  \n",
       "0          138      NaN               0  \n",
       "1          138      NaN               0  \n",
       "2           86      NaN               0  \n",
       "3          138      NaN               0  \n",
       "4          138      NaN               0  "
      ]
     },
     "execution_count": 44,
     "metadata": {},
     "output_type": "execute_result"
    }
   ],
   "source": [
    "Data.head()"
   ]
  },
  {
   "cell_type": "code",
   "execution_count": 45,
   "id": "4251515b",
   "metadata": {},
   "outputs": [],
   "source": [
    "Data_clean = Data.iloc[0: , 2:]"
   ]
  },
  {
   "cell_type": "code",
   "execution_count": 46,
   "id": "7f97815b",
   "metadata": {},
   "outputs": [],
   "source": [
    "# Tried imputing mean revenue in blank rows, but not using it, as it is not suggested to handle missing values of target variable, by imputing with mean\n",
    "Data_clean['RevenueImputed'] = np.where(Data_clean['revenue']==0 , np.mean(RevenueGeneratingCustomers['revenue']) , Data_clean['revenue'])"
   ]
  },
  {
   "cell_type": "code",
   "execution_count": 47,
   "id": "69370731",
   "metadata": {},
   "outputs": [
    {
     "data": {
      "text/plain": [
       "48651766.72724551"
      ]
     },
     "execution_count": 47,
     "metadata": {},
     "output_type": "execute_result"
    }
   ],
   "source": [
    "Data_clean['RevenueImputed'].mean() # After imputing mean of revenue. the mean of revenue is 48651766.72724551"
   ]
  },
  {
   "cell_type": "code",
   "execution_count": 48,
   "id": "58746d6c",
   "metadata": {},
   "outputs": [],
   "source": [
    "# Relacing NaN with 0 in revenue column\n",
    "Data_clean.revenue.fillna(0,inplace=True)"
   ]
  },
  {
   "cell_type": "code",
   "execution_count": 49,
   "id": "d79b08ae",
   "metadata": {},
   "outputs": [],
   "source": [
    "Data_clean.RevenueImputed.fillna(0 , inplace=True)"
   ]
  },
  {
   "cell_type": "code",
   "execution_count": 50,
   "id": "c637f3fc",
   "metadata": {},
   "outputs": [],
   "source": [
    "Data_clean['SalesMadeCustomer'] = np.where((Data_clean['first_revenue_date'] !=0 ) & (Data_clean['date_assignment_starts'] <= Data_clean['first_revenue_date']) & (Data_clean['assigned'] ==1), 1, 0)"
   ]
  },
  {
   "cell_type": "code",
   "execution_count": 51,
   "id": "6c210706",
   "metadata": {},
   "outputs": [
    {
     "data": {
      "text/html": [
       "<div>\n",
       "<style scoped>\n",
       "    .dataframe tbody tr th:only-of-type {\n",
       "        vertical-align: middle;\n",
       "    }\n",
       "\n",
       "    .dataframe tbody tr th {\n",
       "        vertical-align: top;\n",
       "    }\n",
       "\n",
       "    .dataframe thead th {\n",
       "        text-align: right;\n",
       "    }\n",
       "</style>\n",
       "<table border=\"1\" class=\"dataframe\">\n",
       "  <thead>\n",
       "    <tr style=\"text-align: right;\">\n",
       "      <th></th>\n",
       "      <th>assigned</th>\n",
       "      <th>date_assignment_starts</th>\n",
       "      <th>date_assignment_ends</th>\n",
       "      <th>first_revenue_date</th>\n",
       "      <th>date_created</th>\n",
       "      <th>age</th>\n",
       "      <th>assign_days</th>\n",
       "      <th>revenue</th>\n",
       "      <th>ConversionDays</th>\n",
       "      <th>RevenueImputed</th>\n",
       "    </tr>\n",
       "    <tr>\n",
       "      <th>SalesMadeCustomer</th>\n",
       "      <th></th>\n",
       "      <th></th>\n",
       "      <th></th>\n",
       "      <th></th>\n",
       "      <th></th>\n",
       "      <th></th>\n",
       "      <th></th>\n",
       "      <th></th>\n",
       "      <th></th>\n",
       "      <th></th>\n",
       "    </tr>\n",
       "  </thead>\n",
       "  <tbody>\n",
       "    <tr>\n",
       "      <th>0</th>\n",
       "      <td>76992</td>\n",
       "      <td>76992</td>\n",
       "      <td>76992</td>\n",
       "      <td>7534</td>\n",
       "      <td>76992</td>\n",
       "      <td>76992</td>\n",
       "      <td>76992</td>\n",
       "      <td>76992</td>\n",
       "      <td>76992</td>\n",
       "      <td>76992</td>\n",
       "    </tr>\n",
       "    <tr>\n",
       "      <th>1</th>\n",
       "      <td>899</td>\n",
       "      <td>899</td>\n",
       "      <td>899</td>\n",
       "      <td>899</td>\n",
       "      <td>899</td>\n",
       "      <td>899</td>\n",
       "      <td>899</td>\n",
       "      <td>899</td>\n",
       "      <td>899</td>\n",
       "      <td>899</td>\n",
       "    </tr>\n",
       "  </tbody>\n",
       "</table>\n",
       "</div>"
      ],
      "text/plain": [
       "                   assigned  date_assignment_starts  date_assignment_ends  \\\n",
       "SalesMadeCustomer                                                           \n",
       "0                     76992                   76992                 76992   \n",
       "1                       899                     899                   899   \n",
       "\n",
       "                   first_revenue_date  date_created    age  assign_days  \\\n",
       "SalesMadeCustomer                                                         \n",
       "0                                7534         76992  76992        76992   \n",
       "1                                 899           899    899          899   \n",
       "\n",
       "                   revenue  ConversionDays  RevenueImputed  \n",
       "SalesMadeCustomer                                           \n",
       "0                    76992           76992           76992  \n",
       "1                      899             899             899  "
      ]
     },
     "execution_count": 51,
     "metadata": {},
     "output_type": "execute_result"
    }
   ],
   "source": [
    "Data_clean.groupby('SalesMadeCustomer').count()\n",
    "# From the 37079 leads which are assigned to sales, 899 started making revenue after being assigned to sales"
   ]
  },
  {
   "cell_type": "markdown",
   "id": "a685ebba",
   "metadata": {},
   "source": [
    "##### Question 3 :  Analysis on Assigned Leads (37079 leads) , Relatiion between account age and revenue"
   ]
  },
  {
   "cell_type": "code",
   "execution_count": 52,
   "id": "01b22494",
   "metadata": {},
   "outputs": [
    {
     "data": {
      "text/html": [
       "<div>\n",
       "<style scoped>\n",
       "    .dataframe tbody tr th:only-of-type {\n",
       "        vertical-align: middle;\n",
       "    }\n",
       "\n",
       "    .dataframe tbody tr th {\n",
       "        vertical-align: top;\n",
       "    }\n",
       "\n",
       "    .dataframe thead th {\n",
       "        text-align: right;\n",
       "    }\n",
       "</style>\n",
       "<table border=\"1\" class=\"dataframe\">\n",
       "  <thead>\n",
       "    <tr style=\"text-align: right;\">\n",
       "      <th></th>\n",
       "      <th>age</th>\n",
       "      <th>revenue</th>\n",
       "    </tr>\n",
       "  </thead>\n",
       "  <tbody>\n",
       "    <tr>\n",
       "      <th>age</th>\n",
       "      <td>1.000000</td>\n",
       "      <td>0.013634</td>\n",
       "    </tr>\n",
       "    <tr>\n",
       "      <th>revenue</th>\n",
       "      <td>0.013634</td>\n",
       "      <td>1.000000</td>\n",
       "    </tr>\n",
       "  </tbody>\n",
       "</table>\n",
       "</div>"
      ],
      "text/plain": [
       "              age   revenue\n",
       "age      1.000000  0.013634\n",
       "revenue  0.013634  1.000000"
      ]
     },
     "execution_count": 52,
     "metadata": {},
     "output_type": "execute_result"
    }
   ],
   "source": [
    "Data_clean[Data_clean['assigned'] ==1 ][['age' , 'revenue']].corr()\n",
    "# From the leads that are assigned to sales, there is just 1.3% correlation between lead age and original revenue data"
   ]
  },
  {
   "cell_type": "code",
   "execution_count": 53,
   "id": "6078a024",
   "metadata": {},
   "outputs": [
    {
     "data": {
      "text/html": [
       "<div>\n",
       "<style scoped>\n",
       "    .dataframe tbody tr th:only-of-type {\n",
       "        vertical-align: middle;\n",
       "    }\n",
       "\n",
       "    .dataframe tbody tr th {\n",
       "        vertical-align: top;\n",
       "    }\n",
       "\n",
       "    .dataframe thead th {\n",
       "        text-align: right;\n",
       "    }\n",
       "</style>\n",
       "<table border=\"1\" class=\"dataframe\">\n",
       "  <thead>\n",
       "    <tr style=\"text-align: right;\">\n",
       "      <th></th>\n",
       "      <th>age</th>\n",
       "      <th>revenue</th>\n",
       "    </tr>\n",
       "  </thead>\n",
       "  <tbody>\n",
       "    <tr>\n",
       "      <th>age</th>\n",
       "      <td>1.000000</td>\n",
       "      <td>-0.038823</td>\n",
       "    </tr>\n",
       "    <tr>\n",
       "      <th>revenue</th>\n",
       "      <td>-0.038823</td>\n",
       "      <td>1.000000</td>\n",
       "    </tr>\n",
       "  </tbody>\n",
       "</table>\n",
       "</div>"
      ],
      "text/plain": [
       "              age   revenue\n",
       "age      1.000000 -0.038823\n",
       "revenue -0.038823  1.000000"
      ]
     },
     "execution_count": 53,
     "metadata": {},
     "output_type": "execute_result"
    }
   ],
   "source": [
    "# For the customers to which sales was assigned and revenue was made (SalesMadeCustomer), there is 3.8% negative correlation between  age and revenue\n",
    "Data_clean[( Data_clean['SalesMadeCustomer'] > 0 ) & (Data_clean['revenue'] > 0)][['age' , 'revenue']].corr()"
   ]
  },
  {
   "cell_type": "code",
   "execution_count": 54,
   "id": "5575159d",
   "metadata": {},
   "outputs": [
    {
     "data": {
      "image/png": "[encoded data removed]",
      "text/plain": [
       "<Figure size 864x144 with 1 Axes>"
      ]
     },
     "metadata": {
      "needs_background": "light"
     },
     "output_type": "display_data"
    }
   ],
   "source": [
    "# Relstionship of Revenue with Age, for customers made by sales team, in the Assigned group\n",
    "\n",
    "\n",
    "\n",
    "fig = plt.figure(figsize=(12 , 2))\n",
    "Age = Data_clean[ Data_clean['SalesMadeCustomer'] > 0]['age']\n",
    "revenue =Data_clean[ Data_clean['SalesMadeCustomer'] > 0]['revenue']\n",
    "ax = plt.gca()\n",
    "ax.set_xlim([0, 1000])\n",
    "ax.set_ylim([0, 20000000])\n",
    "plt.bar(Age, revenue)\n",
    "plt.title('Revenue with Age ')\n",
    "plt.xlabel('Age')\n",
    "plt.ylabel('Revenue')\n",
    "plt.show()\n",
    "# Inference : No relation b/w age and revenue. if only assigned group , sales made customers considered"
   ]
  },
  {
   "cell_type": "code",
   "execution_count": 55,
   "id": "22f8ac89",
   "metadata": {},
   "outputs": [
    {
     "data": {
      "image/png": "[encoded data removed]",
      "text/plain": [
       "<Figure size 864x144 with 1 Axes>"
      ]
     },
     "metadata": {
      "needs_background": "light"
     },
     "output_type": "display_data"
    }
   ],
   "source": [
    "# Relstionship of Revenue with Age, for leads in the Assigned group\n",
    "\n",
    "\n",
    "\n",
    "fig = plt.figure(figsize=(12 , 2))\n",
    "Age = Data_clean[ Data_clean['assigned']==1]['age']\n",
    "revenue =Data_clean[  Data_clean['assigned']==1]['revenue']\n",
    "ax = plt.gca()\n",
    "ax.set_xlim([0, 4000])\n",
    "ax.set_ylim([0, 2000000000])\n",
    "plt.bar(Age, revenue)\n",
    "plt.title('Revenue with Age ')\n",
    "plt.xlabel('Age')\n",
    "plt.ylabel('Revenue')\n",
    "plt.show()\n",
    "# Inference : Maximun revenue is when age is near to 1000 days, and it gradually decreases then. for leads in the Assigned group"
   ]
  },
  {
   "cell_type": "code",
   "execution_count": 56,
   "id": "c385b3ac",
   "metadata": {},
   "outputs": [
    {
     "data": {
      "image/png": "[encoded data removed]",
      "text/plain": [
       "<Figure size 864x144 with 1 Axes>"
      ]
     },
     "metadata": {
      "needs_background": "light"
     },
     "output_type": "display_data"
    }
   ],
   "source": [
    "# Relstionship of Revenue with Age, for leads in the Unssigned group\n",
    "\n",
    "\n",
    "fig = plt.figure(figsize=(12 , 2))\n",
    "Age = Data_clean[ Data_clean['assigned']==0]['age']\n",
    "revenue =Data_clean[  Data_clean['assigned']==0]['revenue']\n",
    "ax = plt.gca()\n",
    "ax.set_xlim([0, 4000])\n",
    "ax.set_ylim([0, 40000000])\n",
    "plt.bar(Age, revenue)\n",
    "plt.title('Revenue with Age ')\n",
    "plt.xlabel('Age')\n",
    "plt.ylabel('Revenue')\n",
    "plt.show()\n",
    "# Inference :Revenue is decreasing with the age of the leads account. for leads in the unssigned group"
   ]
  },
  {
   "cell_type": "code",
   "execution_count": 57,
   "id": "a1cb9bd4",
   "metadata": {},
   "outputs": [
    {
     "data": {
      "image/png": "[encoded data removed]",
      "text/plain": [
       "<Figure size 864x144 with 1 Axes>"
      ]
     },
     "metadata": {
      "needs_background": "light"
     },
     "output_type": "display_data"
    }
   ],
   "source": [
    "# Relationship of Revenue with Age, for all the leads together\n",
    "\n",
    "fig = plt.figure(figsize=(12 , 2))\n",
    "Age = Data_clean['age']\n",
    "revenue =Data_clean['revenue']\n",
    "\n",
    "plt.bar(Age, revenue)\n",
    "plt.title('Revenue with Age ')\n",
    "plt.xlabel('Age')\n",
    "plt.ylabel('Revenue')\n",
    "plt.show()\n",
    "# Inference : No relation b/w age and revenue. for all the leads together"
   ]
  },
  {
   "cell_type": "markdown",
   "id": "694715b2",
   "metadata": {},
   "source": [
    "\n",
    "##### Question 2 / Question 5 More metric :  Analysis on Assigned Leads (37079 leads) , Relatiion between assign_days and revenue"
   ]
  },
  {
   "cell_type": "code",
   "execution_count": 58,
   "id": "aeae1810",
   "metadata": {},
   "outputs": [
    {
     "data": {
      "text/html": [
       "<div>\n",
       "<style scoped>\n",
       "    .dataframe tbody tr th:only-of-type {\n",
       "        vertical-align: middle;\n",
       "    }\n",
       "\n",
       "    .dataframe tbody tr th {\n",
       "        vertical-align: top;\n",
       "    }\n",
       "\n",
       "    .dataframe thead th {\n",
       "        text-align: right;\n",
       "    }\n",
       "</style>\n",
       "<table border=\"1\" class=\"dataframe\">\n",
       "  <thead>\n",
       "    <tr style=\"text-align: right;\">\n",
       "      <th></th>\n",
       "      <th>assign_days</th>\n",
       "      <th>revenue</th>\n",
       "    </tr>\n",
       "  </thead>\n",
       "  <tbody>\n",
       "    <tr>\n",
       "      <th>assign_days</th>\n",
       "      <td>1.000000</td>\n",
       "      <td>0.008969</td>\n",
       "    </tr>\n",
       "    <tr>\n",
       "      <th>revenue</th>\n",
       "      <td>0.008969</td>\n",
       "      <td>1.000000</td>\n",
       "    </tr>\n",
       "  </tbody>\n",
       "</table>\n",
       "</div>"
      ],
      "text/plain": [
       "             assign_days   revenue\n",
       "assign_days     1.000000  0.008969\n",
       "revenue         0.008969  1.000000"
      ]
     },
     "execution_count": 58,
     "metadata": {},
     "output_type": "execute_result"
    }
   ],
   "source": [
    "Data_clean[Data_clean['assigned'] ==1 ][['assign_days' , 'revenue']].corr()\n",
    "# From the leads that are assigned to sales, there is just 0.8% correlation between customer age (assign_days) and original revenue data "
   ]
  },
  {
   "cell_type": "code",
   "execution_count": 59,
   "id": "58bdd6c6",
   "metadata": {},
   "outputs": [
    {
     "data": {
      "image/png": "[encoded data removed]",
      "text/plain": [
       "<Figure size 864x144 with 1 Axes>"
      ]
     },
     "metadata": {
      "needs_background": "light"
     },
     "output_type": "display_data"
    }
   ],
   "source": [
    "# Relationship of Revenue with assign_days, for all the assigned leads together\n",
    "\n",
    "fig = plt.figure(figsize=(12 , 2))\n",
    "assign_days = Data_clean[Data_clean['assigned']==1]['assign_days']\n",
    "revenue =Data_clean[Data_clean['assigned']==1]['revenue']\n",
    "\n",
    "plt.bar(assign_days, revenue)\n",
    "plt.title('Revenue with assign_days ')\n",
    "plt.xlabel('assign_days')\n",
    "plt.ylabel('Revenue')\n",
    "plt.show()\n",
    "# Inference : Revenue increasing with assign days. for all the assigned leads together"
   ]
  },
  {
   "cell_type": "code",
   "execution_count": 61,
   "id": "ee5164ea",
   "metadata": {},
   "outputs": [
    {
     "data": {
      "image/png": "[encoded data removed]",
      "text/plain": [
       "<Figure size 864x144 with 1 Axes>"
      ]
     },
     "metadata": {
      "needs_background": "light"
     },
     "output_type": "display_data"
    }
   ],
   "source": [
    "fig = plt.figure(figsize=(12 , 2))\n",
    "ax = fig.add_axes([0,0,1,1])\n",
    "scale_y = 1e3\n",
    "SalesInvolvementAge = Data_clean[ Data_clean['revenue'] > 0]['assign_days']\n",
    "revenue =Data_clean[ Data_clean['revenue'] > 0]['revenue']\n",
    "\n",
    "ax.bar(SalesInvolvementAge,revenue)\n",
    "plt.show()\n",
    "# Relation between assign days and revenue, for the leads having revenue\n",
    "# Closer to the sales assignment date, there is good revenue generation. More the number of assignment to sales, lesser the revenue"
   ]
  },
  {
   "cell_type": "code",
   "execution_count": 62,
   "id": "4ca5ee25",
   "metadata": {},
   "outputs": [],
   "source": [
    "Data_clean['IsACustomer'] = np.where(Data_clean['revenue'] == 0, 0, 1)\n",
    "#3340 are customers\n",
    "#74551 are not customers"
   ]
  },
  {
   "cell_type": "code",
   "execution_count": 63,
   "id": "e308b7f0",
   "metadata": {
    "scrolled": true
   },
   "outputs": [
    {
     "data": {
      "text/html": [
       "<div>\n",
       "<style scoped>\n",
       "    .dataframe tbody tr th:only-of-type {\n",
       "        vertical-align: middle;\n",
       "    }\n",
       "\n",
       "    .dataframe tbody tr th {\n",
       "        vertical-align: top;\n",
       "    }\n",
       "\n",
       "    .dataframe thead th {\n",
       "        text-align: right;\n",
       "    }\n",
       "</style>\n",
       "<table border=\"1\" class=\"dataframe\">\n",
       "  <thead>\n",
       "    <tr style=\"text-align: right;\">\n",
       "      <th></th>\n",
       "      <th>assigned</th>\n",
       "      <th>date_assignment_starts</th>\n",
       "      <th>date_assignment_ends</th>\n",
       "      <th>first_revenue_date</th>\n",
       "      <th>date_created</th>\n",
       "      <th>age</th>\n",
       "      <th>assign_days</th>\n",
       "      <th>revenue</th>\n",
       "      <th>ConversionDays</th>\n",
       "      <th>RevenueImputed</th>\n",
       "      <th>SalesMadeCustomer</th>\n",
       "    </tr>\n",
       "    <tr>\n",
       "      <th>IsACustomer</th>\n",
       "      <th></th>\n",
       "      <th></th>\n",
       "      <th></th>\n",
       "      <th></th>\n",
       "      <th></th>\n",
       "      <th></th>\n",
       "      <th></th>\n",
       "      <th></th>\n",
       "      <th></th>\n",
       "      <th></th>\n",
       "      <th></th>\n",
       "    </tr>\n",
       "  </thead>\n",
       "  <tbody>\n",
       "    <tr>\n",
       "      <th>0</th>\n",
       "      <td>74551</td>\n",
       "      <td>74551</td>\n",
       "      <td>74551</td>\n",
       "      <td>5093</td>\n",
       "      <td>74551</td>\n",
       "      <td>74551</td>\n",
       "      <td>74551</td>\n",
       "      <td>74551</td>\n",
       "      <td>74551</td>\n",
       "      <td>74551</td>\n",
       "      <td>74551</td>\n",
       "    </tr>\n",
       "    <tr>\n",
       "      <th>1</th>\n",
       "      <td>3340</td>\n",
       "      <td>3340</td>\n",
       "      <td>3340</td>\n",
       "      <td>3340</td>\n",
       "      <td>3340</td>\n",
       "      <td>3340</td>\n",
       "      <td>3340</td>\n",
       "      <td>3340</td>\n",
       "      <td>3340</td>\n",
       "      <td>3340</td>\n",
       "      <td>3340</td>\n",
       "    </tr>\n",
       "  </tbody>\n",
       "</table>\n",
       "</div>"
      ],
      "text/plain": [
       "             assigned  date_assignment_starts  date_assignment_ends  \\\n",
       "IsACustomer                                                           \n",
       "0               74551                   74551                 74551   \n",
       "1                3340                    3340                  3340   \n",
       "\n",
       "             first_revenue_date  date_created    age  assign_days  revenue  \\\n",
       "IsACustomer                                                                  \n",
       "0                          5093         74551  74551        74551    74551   \n",
       "1                          3340          3340   3340         3340     3340   \n",
       "\n",
       "             ConversionDays  RevenueImputed  SalesMadeCustomer  \n",
       "IsACustomer                                                     \n",
       "0                     74551           74551              74551  \n",
       "1                      3340            3340               3340  "
      ]
     },
     "execution_count": 63,
     "metadata": {},
     "output_type": "execute_result"
    }
   ],
   "source": [
    "Data_clean.groupby(['IsACustomer']).count()"
   ]
  },
  {
   "cell_type": "code",
   "execution_count": 64,
   "id": "5edd6dbc",
   "metadata": {},
   "outputs": [
    {
     "data": {
      "text/plain": [
       "assigned                  74551\n",
       "date_assignment_starts    74551\n",
       "date_assignment_ends      74551\n",
       "first_revenue_date         5093\n",
       "date_created              74551\n",
       "age                       74551\n",
       "assign_days               74551\n",
       "revenue                   74551\n",
       "ConversionDays            74551\n",
       "RevenueImputed            74551\n",
       "SalesMadeCustomer         74551\n",
       "IsACustomer               74551\n",
       "dtype: int64"
      ]
     },
     "execution_count": 64,
     "metadata": {},
     "output_type": "execute_result"
    }
   ],
   "source": [
    "Data_clean[Data_clean['revenue']==0].count()"
   ]
  },
  {
   "cell_type": "code",
   "execution_count": 65,
   "id": "60764cbd",
   "metadata": {},
   "outputs": [],
   "source": [
    "Data_Customers = Data_clean[Data_clean['IsACustomer'] ==1]"
   ]
  },
  {
   "cell_type": "code",
   "execution_count": 66,
   "id": "6be7d498",
   "metadata": {},
   "outputs": [
    {
     "data": {
      "text/plain": [
       "assigned                  3340\n",
       "date_assignment_starts    3340\n",
       "date_assignment_ends      3340\n",
       "first_revenue_date        3340\n",
       "date_created              3340\n",
       "age                       3340\n",
       "assign_days               3340\n",
       "revenue                   3340\n",
       "ConversionDays            3340\n",
       "RevenueImputed            3340\n",
       "SalesMadeCustomer         3340\n",
       "IsACustomer               3340\n",
       "dtype: int64"
      ]
     },
     "execution_count": 66,
     "metadata": {},
     "output_type": "execute_result"
    }
   ],
   "source": [
    "Data_Customers.isna().count()"
   ]
  },
  {
   "cell_type": "markdown",
   "id": "3b020777",
   "metadata": {},
   "source": [
    "##### Question 3 - Another analysis - relationship between account age and revenue.  "
   ]
  },
  {
   "cell_type": "code",
   "execution_count": 67,
   "id": "7cf02a42",
   "metadata": {},
   "outputs": [],
   "source": [
    "# Lets see what is the revenue making customers' probability distribution by age"
   ]
  },
  {
   "cell_type": "code",
   "execution_count": 68,
   "id": "1584d530",
   "metadata": {},
   "outputs": [
    {
     "data": {
      "image/png": "[encoded data removed]",
      "text/plain": [
       "<Figure size 432x288 with 1 Axes>"
      ]
     },
     "metadata": {
      "needs_background": "light"
     },
     "output_type": "display_data"
    }
   ],
   "source": [
    "\n",
    "%matplotlib inline\n",
    "\n",
    "np.random.seed(42)\n",
    "x = np.array(Data_Customers['age']).reshape(-1,1)\n",
    "plt.hist(x, density=True, bins=50)  # density=False would make counts\n",
    "plt.ylabel('Probability of Revenue making cutomer')\n",
    "plt.xlabel('Age');\n",
    "# probability distribution for all age range is like below. right skewed. Maximum revenue making happened closer to creation date"
   ]
  },
  {
   "cell_type": "code",
   "execution_count": 69,
   "id": "ca1a2cdb",
   "metadata": {},
   "outputs": [
    {
     "data": {
      "image/png": "[encoded data removed]",
      "text/plain": [
       "<Figure size 432x288 with 1 Axes>"
      ]
     },
     "metadata": {
      "needs_background": "light"
     },
     "output_type": "display_data"
    }
   ],
   "source": [
    "\n",
    "\n",
    "\n",
    "%matplotlib inline\n",
    "\n",
    "np.random.seed(42)\n",
    "x = np.array(Data_clean[Data_clean['SalesMadeCustomer']==1]['age']).reshape(-1,1)\n",
    "plt.hist(x, density=True, bins=50)  # density=False would make counts\n",
    "plt.ylabel('Probability of Revenue making cutomer')\n",
    "plt.xlabel('Age');\n"
   ]
  },
  {
   "cell_type": "markdown",
   "id": "4bed981f",
   "metadata": {},
   "source": [
    "##### Question 4 :]What is the incremental value of assigning a lead to the sales team?  "
   ]
  },
  {
   "cell_type": "code",
   "execution_count": 70,
   "id": "36e96dc2",
   "metadata": {},
   "outputs": [],
   "source": [
    "# We have already seen in Q1, that we get more revenue from Assigned group \n",
    "# We also have seen the rise in mean revenue from the assigned group, as compared to the unassigned group. in Q2\n",
    "# Let us try if Linear regression can give a more explanatory relation between age and revenue, considering all leads together\n",
    "X = np.array(Data_clean['assigned']).reshape(-1,1)\n",
    "y = Data_clean['revenue']"
   ]
  },
  {
   "cell_type": "code",
   "execution_count": 71,
   "id": "3191c9ea",
   "metadata": {},
   "outputs": [
    {
     "data": {
      "text/plain": [
       "array([2199845.33287297])"
      ]
     },
     "execution_count": 71,
     "metadata": {},
     "output_type": "execute_result"
    }
   ],
   "source": [
    "from sklearn.linear_model import LinearRegression\n",
    "model = LinearRegression()\n",
    "\n",
    "model.fit(X, y)  # where X is your feature data and y is your target\n",
    "model.coef_"
   ]
  },
  {
   "cell_type": "code",
   "execution_count": 72,
   "id": "8eb92909",
   "metadata": {},
   "outputs": [
    {
     "data": {
      "text/plain": [
       "1039001.1140106467"
      ]
     },
     "execution_count": 72,
     "metadata": {},
     "output_type": "execute_result"
    }
   ],
   "source": [
    "model.intercept_"
   ]
  },
  {
   "cell_type": "code",
   "execution_count": 73,
   "id": "05b9fafb",
   "metadata": {},
   "outputs": [
    {
     "name": "stdout",
     "output_type": "stream",
     "text": [
      "                                 OLS Regression Results                                \n",
      "=======================================================================================\n",
      "Dep. Variable:                revenue   R-squared (uncentered):                   0.004\n",
      "Model:                            OLS   Adj. R-squared (uncentered):              0.004\n",
      "Method:                 Least Squares   F-statistic:                              279.9\n",
      "Date:                Mon, 18 Apr 2022   Prob (F-statistic):                    1.03e-62\n",
      "Time:                        01:41:27   Log-Likelihood:                     -1.4685e+06\n",
      "No. Observations:               77891   AIC:                                  2.937e+06\n",
      "Df Residuals:                   77890   BIC:                                  2.937e+06\n",
      "Df Model:                           1                                                  \n",
      "Covariance Type:            nonrobust                                                  \n",
      "==============================================================================\n",
      "                 coef    std err          t      P>|t|      [0.025      0.975]\n",
      "------------------------------------------------------------------------------\n",
      "x1          3.239e+06   1.94e+05     16.730      0.000    2.86e+06    3.62e+06\n",
      "==============================================================================\n",
      "Omnibus:                   298356.843   Durbin-Watson:                   2.001\n",
      "Prob(Omnibus):                  0.000   Jarque-Bera (JB):     553972578481.601\n",
      "Skew:                          89.086   Prob(JB):                         0.00\n",
      "Kurtosis:                   13066.686   Cond. No.                         1.00\n",
      "==============================================================================\n",
      "\n",
      "Notes:\n",
      "[1] R² is computed without centering (uncentered) since the model does not contain a constant.\n",
      "[2] Standard Errors assume that the covariance matrix of the errors is correctly specified.\n"
     ]
    }
   ],
   "source": [
    "import statsmodels.api as sm\n",
    "# fit the model and get a summary of the statistics\n",
    "model = sm.OLS(y, X)\n",
    "results = model.fit()\n",
    "print(results.summary())"
   ]
  },
  {
   "cell_type": "code",
   "execution_count": 74,
   "id": "d5a81a93",
   "metadata": {},
   "outputs": [],
   "source": [
    "# The high coefficient value (for assigned) from Linear models is proving the effect of sales assignment on Revenue.Because it is univariate analysis, and also there are only 2 values in assigned (0, 1), the coefficient is actually indicating the incremental effect of ‘assigned’ to the revenue. "
   ]
  },
  {
   "cell_type": "markdown",
   "id": "172d303f",
   "metadata": {},
   "source": [
    "###### Question 5 : Linear Regression analysis to see effect of all the independent variables to the Revenue"
   ]
  },
  {
   "cell_type": "code",
   "execution_count": 75,
   "id": "00ff5b87",
   "metadata": {},
   "outputs": [],
   "source": [
    "modelAll = LinearRegression()\n"
   ]
  },
  {
   "cell_type": "code",
   "execution_count": 76,
   "id": "db91144e",
   "metadata": {},
   "outputs": [],
   "source": [
    "XAll = Data_clean[['assigned' , 'age' , 'assign_days' , 'ConversionDays']]"
   ]
  },
  {
   "cell_type": "code",
   "execution_count": 77,
   "id": "da2ef968",
   "metadata": {},
   "outputs": [],
   "source": [
    "# importing train_test_split from sklearn\n",
    "from sklearn.model_selection import train_test_split\n",
    "# splitting the data\n",
    "x_train, x_test, y_train, y_test = train_test_split(XAll, y, test_size = 0.2, random_state = 42)"
   ]
  },
  {
   "cell_type": "code",
   "execution_count": 78,
   "id": "58f45f2d",
   "metadata": {},
   "outputs": [
    {
     "data": {
      "text/plain": [
       "LinearRegression()"
      ]
     },
     "execution_count": 78,
     "metadata": {},
     "output_type": "execute_result"
    }
   ],
   "source": [
    "modelAll.fit(x_train,y_train)"
   ]
  },
  {
   "cell_type": "code",
   "execution_count": 79,
   "id": "bdadd9ca",
   "metadata": {},
   "outputs": [
    {
     "data": {
      "text/plain": [
       "array([ 771428.87104005,  814254.07239983, 4881161.02883945, ...,\n",
       "       2225535.5941702 ,  814254.07239983,  771428.87104005])"
      ]
     },
     "execution_count": 79,
     "metadata": {},
     "output_type": "execute_result"
    }
   ],
   "source": [
    "y_prediction =  modelAll.predict(x_test)\n",
    "y_prediction"
   ]
  },
  {
   "cell_type": "code",
   "execution_count": 80,
   "id": "56bac7d3",
   "metadata": {},
   "outputs": [
    {
     "data": {
      "text/plain": [
       "array([ 1.10392293e+06,  8.88791350e+02, -2.14126007e+04, -9.59548509e+01])"
      ]
     },
     "execution_count": 80,
     "metadata": {},
     "output_type": "execute_result"
    }
   ],
   "source": [
    "modelAll.coef_\n",
    "# Inference : \n",
    "# 'assigned' has high affect on revenue , 'age' has high affect on revenue , \n",
    "# 'assign_days' has inverse effect i.e. if assign_days increase, revenue decrease, more number of days sales is assigned to leads, less is the revenue,\n",
    "# 'ConversionDays' has slight effect. more is the numebr of conversion days, less is the revenue. "
   ]
  },
  {
   "cell_type": "code",
   "execution_count": 81,
   "id": "93b1061f",
   "metadata": {},
   "outputs": [
    {
     "data": {
      "text/plain": [
       "3726367.764864769"
      ]
     },
     "execution_count": 81,
     "metadata": {},
     "output_type": "execute_result"
    }
   ],
   "source": [
    "modelAll.intercept_"
   ]
  },
  {
   "cell_type": "code",
   "execution_count": 82,
   "id": "e0c09b21",
   "metadata": {},
   "outputs": [
    {
     "name": "stdout",
     "output_type": "stream",
     "text": [
      "r2 socre is  0.0018529859269083016\n",
      "mean_sqrd_error is== 1745058119792333.2\n",
      "root_mean_squared error of is== 41773892.8015134\n"
     ]
    }
   ],
   "source": [
    "# importing r2_score module\n",
    "from sklearn.metrics import r2_score\n",
    "from sklearn.metrics import mean_squared_error\n",
    "# predicting the accuracy score\n",
    "score=r2_score(y_test,y_prediction)\n",
    "print('r2 socre is ',score)\n",
    "print('mean_sqrd_error is==',mean_squared_error(y_test,y_prediction))\n",
    "print('root_mean_squared error of is==',np.sqrt(mean_squared_error(y_test,y_prediction)))"
   ]
  },
  {
   "cell_type": "markdown",
   "id": "1569352f",
   "metadata": {},
   "source": [
    "###### Question 5 : Time Series analysis was possible"
   ]
  },
  {
   "cell_type": "code",
   "execution_count": 83,
   "id": "edc1f308",
   "metadata": {},
   "outputs": [],
   "source": [
    "# Maybe a better analysis would have been if there was time series data, with information on all the orders of the customer with time. "
   ]
  },
  {
   "cell_type": "markdown",
   "id": "3e575a50",
   "metadata": {},
   "source": [
    "###### Question 5 : A/B Testing analysis was possible"
   ]
  },
  {
   "cell_type": "code",
   "execution_count": 84,
   "id": "8a1ef426",
   "metadata": {},
   "outputs": [],
   "source": [
    "# Lets see if Randomized Control test possible ? (A/B Testing )\n",
    "# A - Revenue with sales team assignment has increased\n",
    "# B - Revenue with sales team assignment has not increased"
   ]
  },
  {
   "cell_type": "code",
   "execution_count": 85,
   "id": "ca66c873",
   "metadata": {},
   "outputs": [],
   "source": [
    "# Treatment Group = AssignedDF\n",
    "# Control Group = UnassignedDF\n",
    "# Because the number of customers in each group (Unassigned and Assigned) is not equal, we cannot use totalrevenue as metric. (Unfair)\n",
    "# Let the metric be - Revenue per customer - Normalization\n",
    "\n",
    "\n",
    "# What will be the practical significance boundary (Increase in revenue to decide sales intervention affect)\n",
    "# Assume - 2$ / user ? \n",
    "\n",
    "# Sample Size for the A/B Testing = (16* Variance of the population)/(Delta - differnece between treatment and control group)^2\n",
    "\n",
    "# Rampup Plan : Day1,2,3,4 / Round1,2,3,4 - Take 5% , then 10%, 33%, 33%\n",
    "# Confounding variables : Day of the week (Run experiment full week), seasonality(Run experiment full year), \n",
    "\n",
    "\n",
    "# Sanity checks - Number of users assigned to each group. \n",
    "\n",
    "# Now perform Hypothesis testing. and check Treatment1 vs Control, Treatment2 vs Control, Revenue increase, p-value, Confidence Interval\n",
    "# Check if the results are statistically significant ? By looking at p value (p value < 0.05 - not statistically significant)\n",
    "# Check if the results are practically significant ? By looking at the Point estimate. Is the point estimate > assumed practical siginificance boundary\n"
   ]
  },
  {
   "cell_type": "markdown",
   "id": "fafa28d5",
   "metadata": {},
   "source": [
    "###### Question 5 : Imputing revenue by ML"
   ]
  },
  {
   "cell_type": "markdown",
   "id": "15557be0",
   "metadata": {},
   "source": [
    "# Approach - Filling up revenue fields on basis of ML model - BAD APPROACH"
   ]
  },
  {
   "cell_type": "code",
   "execution_count": 101,
   "id": "83b1c8f1",
   "metadata": {},
   "outputs": [],
   "source": [
    "\n",
    "# Causal Inference / Modelling = Using ML to impute the unassigned leads, some values, based on a ML model learnt from assigned group. \n",
    "# Calculating, ITE, ATE, CATE based on the ML model's output "
   ]
  },
  {
   "cell_type": "code",
   "execution_count": 102,
   "id": "3e52191e",
   "metadata": {},
   "outputs": [],
   "source": [
    "import sklearn as sk\n",
    "from sklearn import linear_model\n"
   ]
  },
  {
   "cell_type": "code",
   "execution_count": 103,
   "id": "d95eed56",
   "metadata": {},
   "outputs": [
    {
     "data": {
      "text/plain": [
       "Unnamed: 0                37079\n",
       "advertiser_id             37079\n",
       "assigned                  37079\n",
       "date_assignment_starts    37079\n",
       "date_assignment_ends      37079\n",
       "first_revenue_date        37079\n",
       "date_created              37079\n",
       "age                       37079\n",
       "assign_days               37079\n",
       "revenue                   37079\n",
       "dtype: int64"
      ]
     },
     "execution_count": 103,
     "metadata": {},
     "output_type": "execute_result"
    }
   ],
   "source": [
    "DF_Assigned.isna().count()"
   ]
  },
  {
   "cell_type": "code",
   "execution_count": 104,
   "id": "9d954c8b",
   "metadata": {},
   "outputs": [
    {
     "name": "stderr",
     "output_type": "stream",
     "text": [
      "C:\\Users\\lavin\\AppData\\Local\\Temp\\ipykernel_8252\\4259441608.py:1: SettingWithCopyWarning: \n",
      "A value is trying to be set on a copy of a slice from a DataFrame\n",
      "\n",
      "See the caveats in the documentation: https://pandas.pydata.org/pandas-docs/stable/user_guide/indexing.html#returning-a-view-versus-a-copy\n",
      "  DF_Assigned.revenue.fillna(0 , inplace = True)\n"
     ]
    }
   ],
   "source": [
    "DF_Assigned.revenue.fillna(0 , inplace = True)"
   ]
  },
  {
   "cell_type": "code",
   "execution_count": 105,
   "id": "a2c9400a",
   "metadata": {},
   "outputs": [
    {
     "data": {
      "text/plain": [
       "0              0.0\n",
       "1              0.0\n",
       "2              0.0\n",
       "3              0.0\n",
       "4              0.0\n",
       "           ...    \n",
       "77886    9643000.0\n",
       "77887          0.0\n",
       "77888          0.0\n",
       "77889          0.0\n",
       "77890          0.0\n",
       "Name: revenue, Length: 37079, dtype: float64"
      ]
     },
     "execution_count": 105,
     "metadata": {},
     "output_type": "execute_result"
    }
   ],
   "source": [
    "DF_Assigned.revenue"
   ]
  },
  {
   "cell_type": "code",
   "execution_count": 106,
   "id": "0532beb6",
   "metadata": {},
   "outputs": [],
   "source": [
    "import numpy as np\n",
    "Train_X = np.array(DF_Assigned['age']).reshape(-1,1)\n"
   ]
  },
  {
   "cell_type": "code",
   "execution_count": 107,
   "id": "16763a9a",
   "metadata": {},
   "outputs": [],
   "source": [
    "#DF_Assigned['revenueDivideBy10000000000'] = DF_Assigned['revenue'].div(10000000000)"
   ]
  },
  {
   "cell_type": "code",
   "execution_count": 108,
   "id": "69fbbdac",
   "metadata": {},
   "outputs": [
    {
     "data": {
      "text/plain": [
       "0              0.0\n",
       "1              0.0\n",
       "2              0.0\n",
       "3              0.0\n",
       "4              0.0\n",
       "           ...    \n",
       "77886    9643000.0\n",
       "77887          0.0\n",
       "77888          0.0\n",
       "77889          0.0\n",
       "77890          0.0\n",
       "Name: revenue, Length: 37079, dtype: float64"
      ]
     },
     "execution_count": 108,
     "metadata": {},
     "output_type": "execute_result"
    }
   ],
   "source": [
    "DF_Assigned['revenue']"
   ]
  },
  {
   "cell_type": "code",
   "execution_count": 109,
   "id": "92fc3bf1",
   "metadata": {},
   "outputs": [],
   "source": [
    "Train_Y = np.array(DF_Assigned['revenue'])\n"
   ]
  },
  {
   "cell_type": "code",
   "execution_count": 110,
   "id": "bd01b9a9",
   "metadata": {},
   "outputs": [],
   "source": [
    "from sklearn.model_selection import train_test_split\n",
    "from sklearn.metrics import mean_squared_error"
   ]
  },
  {
   "cell_type": "code",
   "execution_count": 111,
   "id": "3427449e",
   "metadata": {},
   "outputs": [],
   "source": [
    "TrainX70, TestX30, TrainY70, TestY30 = train_test_split(Train_X, Train_Y, test_size=0.30, random_state=42)"
   ]
  },
  {
   "cell_type": "code",
   "execution_count": 112,
   "id": "188ccfb3",
   "metadata": {},
   "outputs": [],
   "source": [
    "# Plain Regression model on entire training data set"
   ]
  },
  {
   "cell_type": "code",
   "execution_count": 113,
   "id": "a3ea7bdb",
   "metadata": {},
   "outputs": [
    {
     "data": {
      "text/plain": [
       "LinearRegression()"
      ]
     },
     "execution_count": 113,
     "metadata": {},
     "output_type": "execute_result"
    }
   ],
   "source": [
    "Regressor = sk.linear_model.LinearRegression()\n",
    "Regressor.fit(TrainX70, TrainY70)"
   ]
  },
  {
   "cell_type": "code",
   "execution_count": 114,
   "id": "9a5a6558",
   "metadata": {},
   "outputs": [],
   "source": [
    "# Check Regression model's accuracy "
   ]
  },
  {
   "cell_type": "code",
   "execution_count": 115,
   "id": "a02ff5be",
   "metadata": {},
   "outputs": [],
   "source": [
    "Test_Y30_Pred = Regressor.predict(TestX30)"
   ]
  },
  {
   "cell_type": "code",
   "execution_count": 116,
   "id": "2c84bf50",
   "metadata": {},
   "outputs": [],
   "source": [
    "PerformanceRegressor = mean_squared_error(TestY30, Test_Y30_Pred)"
   ]
  },
  {
   "cell_type": "code",
   "execution_count": 117,
   "id": "7a380817",
   "metadata": {},
   "outputs": [
    {
     "data": {
      "text/plain": [
       "2807766673924946.0"
      ]
     },
     "execution_count": 117,
     "metadata": {},
     "output_type": "execute_result"
    }
   ],
   "source": [
    "PerformanceRegressor # too high.. Means tooo bad regressor, means my approach is wrong, may be because there are so many 0 values in revenue. Its not a correct training data/approach"
   ]
  },
  {
   "cell_type": "code",
   "execution_count": 118,
   "id": "55d60e64",
   "metadata": {},
   "outputs": [],
   "source": [
    "# random search Ridge regression model \n",
    "from scipy.stats import loguniform\n",
    "from sklearn.model_selection import RandomizedSearchCV\n",
    "# define search space\n",
    "space = dict()\n",
    "space['solver'] = ['svd', 'cholesky', 'lsqr', 'sag']\n",
    "space['alpha'] = loguniform(1e-5, 100)\n",
    "space['fit_intercept'] = [True, False]\n",
    "space['normalize'] = [True, False]"
   ]
  },
  {
   "cell_type": "code",
   "execution_count": 119,
   "id": "215922e6",
   "metadata": {},
   "outputs": [],
   "source": [
    "\n",
    "from sklearn.linear_model import Ridge\n",
    "from sklearn.model_selection import RepeatedKFold\n",
    "model = Ridge()\n",
    "cv = RepeatedKFold(n_splits=10, n_repeats=3, random_state=1)\n",
    "search = RandomizedSearchCV(model, space, n_iter=500, scoring='neg_mean_absolute_error', n_jobs=-1, cv=cv, random_state=1)\n"
   ]
  },
  {
   "cell_type": "code",
   "execution_count": 120,
   "id": "6ef589e3",
   "metadata": {},
   "outputs": [
    {
     "name": "stderr",
     "output_type": "stream",
     "text": [
      "C:\\Users\\lavin\\anaconda3\\lib\\site-packages\\sklearn\\linear_model\\_base.py:148: FutureWarning: 'normalize' was deprecated in version 1.0 and will be removed in 1.2. Please leave the normalize parameter to its default value to silence this warning. The default behavior of this estimator is to not do any normalization. If normalization is needed please use sklearn.preprocessing.StandardScaler instead.\n",
      "  warnings.warn(\n"
     ]
    }
   ],
   "source": [
    "# execute search\n",
    "result = search.fit(Train_X, Train_Y)"
   ]
  },
  {
   "cell_type": "code",
   "execution_count": 121,
   "id": "d7020db2",
   "metadata": {},
   "outputs": [
    {
     "name": "stdout",
     "output_type": "stream",
     "text": [
      "Best Score: -5272221.750188783\n",
      "Best Hyperparameters: {'alpha': 0.000135075129755462, 'fit_intercept': False, 'normalize': False, 'solver': 'sag'}\n"
     ]
    }
   ],
   "source": [
    "# summarize result\n",
    "print('Best Score: %s' % result.best_score_)\n",
    "print('Best Hyperparameters: %s' % result.best_params_)"
   ]
  },
  {
   "cell_type": "code",
   "execution_count": null,
   "id": "110a2c21",
   "metadata": {},
   "outputs": [],
   "source": []
  }
 ],
 "metadata": {
  "kernelspec": {
   "display_name": "Python 3 (ipykernel)",
   "language": "python",
   "name": "python3"
  },
  "language_info": {
   "codemirror_mode": {
    "name": "ipython",
    "version": 3
   },
   "file_extension": ".py",
   "mimetype": "text/x-python",
   "name": "python",
   "nbconvert_exporter": "python",
   "pygments_lexer": "ipython3",
   "version": "3.9.7"
  }
 },
 "nbformat": 4,
 "nbformat_minor": 5
}
